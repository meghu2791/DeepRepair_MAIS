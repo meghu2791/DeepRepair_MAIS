{
 "cells": [
  {
   "cell_type": "code",
   "execution_count": 9,
   "metadata": {},
   "outputs": [],
   "source": [
    "import warnings\n",
    "warnings.filterwarnings('ignore')\n",
    "\n",
    "from gensim.models import Word2Vec\n",
    "import gensim\n",
    "import pandas as pd"
   ]
  },
  {
   "cell_type": "markdown",
   "metadata": {},
   "source": [
    "## Read Data\n",
    "Read the hospital dataset"
   ]
  },
  {
   "cell_type": "code",
   "execution_count": 10,
   "metadata": {},
   "outputs": [],
   "source": [
    "#df = pd.read_csv(\"truthvalue.csv\",dtype=object, encoding='utf8')"
   ]
  },
  {
   "cell_type": "code",
   "execution_count": 11,
   "metadata": {},
   "outputs": [],
   "source": [
    "df = pd.read_csv('census_clean_unflatten.csv', dtype=object, index_col=False)"
   ]
  },
  {
   "cell_type": "markdown",
   "metadata": {},
   "source": [
    "Drop some columns"
   ]
  },
  {
   "cell_type": "code",
   "execution_count": 12,
   "metadata": {},
   "outputs": [],
   "source": [
    "#df.drop(columns=['City'], axis=1, inplace=True)\n",
    "df = df.apply(lambda x: x.astype(str).str.lower())"
   ]
  },
  {
   "cell_type": "code",
   "execution_count": 13,
   "metadata": {},
   "outputs": [],
   "source": [
    "#df['Birthday'] = df['Birthday'].apply(lambda x: str(int(float(x))))\n",
    "#df['Number'] = df['Number'].apply(lambda x: str(int(float(x))))\n",
    "#df['PhoneNumber'] = df['PhoneNumber'].apply(lambda x: str(int(float(x))))\n",
    "\n",
    "#for i in range(0, 3):\n",
    "#    df.append(df)\n",
    "df = df.sample(frac=1).reset_index(drop=True)"
   ]
  },
  {
   "cell_type": "code",
   "execution_count": 14,
   "metadata": {},
   "outputs": [
    {
     "data": {
      "text/html": [
       "<div>\n",
       "<style scoped>\n",
       "    .dataframe tbody tr th:only-of-type {\n",
       "        vertical-align: middle;\n",
       "    }\n",
       "\n",
       "    .dataframe tbody tr th {\n",
       "        vertical-align: top;\n",
       "    }\n",
       "\n",
       "    .dataframe thead th {\n",
       "        text-align: right;\n",
       "    }\n",
       "</style>\n",
       "<table border=\"1\" class=\"dataframe\">\n",
       "  <thead>\n",
       "    <tr style=\"text-align: right;\">\n",
       "      <th></th>\n",
       "      <th>age</th>\n",
       "      <th>class_of_worker</th>\n",
       "      <th>education</th>\n",
       "      <th>enroll_in_edu_inst_last_wk</th>\n",
       "      <th>marital_stat</th>\n",
       "      <th>major_industry_code</th>\n",
       "      <th>major_occupation_code</th>\n",
       "      <th>race</th>\n",
       "      <th>hispanic_origin</th>\n",
       "      <th>sex</th>\n",
       "      <th>...</th>\n",
       "      <th>migration_code_move_within_reg</th>\n",
       "      <th>live_in_this_house_1_year_ago</th>\n",
       "      <th>migration_prev_res_in_sunbelt</th>\n",
       "      <th>country_of_birth_father</th>\n",
       "      <th>country_of_birth_mother</th>\n",
       "      <th>country_of_birth_self</th>\n",
       "      <th>citizenship</th>\n",
       "      <th>own_business_or_self_employed</th>\n",
       "      <th>year</th>\n",
       "      <th>income</th>\n",
       "    </tr>\n",
       "  </thead>\n",
       "  <tbody>\n",
       "    <tr>\n",
       "      <th>0</th>\n",
       "      <td>30</td>\n",
       "      <td>private</td>\n",
       "      <td>masters degree(ma ms meng med msw mba)</td>\n",
       "      <td>not in universe</td>\n",
       "      <td>married-civilian spouse present</td>\n",
       "      <td>manufacturing-nondurable goods</td>\n",
       "      <td>professional specialty</td>\n",
       "      <td>asian or pacific islander</td>\n",
       "      <td>all other</td>\n",
       "      <td>female</td>\n",
       "      <td>...</td>\n",
       "      <td>nonmover</td>\n",
       "      <td>yes</td>\n",
       "      <td>not in universe</td>\n",
       "      <td>china</td>\n",
       "      <td>china</td>\n",
       "      <td>china</td>\n",
       "      <td>foreign born- not a citizen of u s</td>\n",
       "      <td>0</td>\n",
       "      <td>94</td>\n",
       "      <td>- 50000.</td>\n",
       "    </tr>\n",
       "    <tr>\n",
       "      <th>1</th>\n",
       "      <td>60</td>\n",
       "      <td>not in universe</td>\n",
       "      <td>doctorate degree(phd edd)</td>\n",
       "      <td>not in universe</td>\n",
       "      <td>married-civilian spouse present</td>\n",
       "      <td>not in universe or children</td>\n",
       "      <td>not in universe</td>\n",
       "      <td>black</td>\n",
       "      <td>all other</td>\n",
       "      <td>male</td>\n",
       "      <td>...</td>\n",
       "      <td>nonmover</td>\n",
       "      <td>yes</td>\n",
       "      <td>not in universe</td>\n",
       "      <td>united-states</td>\n",
       "      <td>united-states</td>\n",
       "      <td>united-states</td>\n",
       "      <td>native- born in the united states</td>\n",
       "      <td>0</td>\n",
       "      <td>94</td>\n",
       "      <td>- 50000.</td>\n",
       "    </tr>\n",
       "    <tr>\n",
       "      <th>2</th>\n",
       "      <td>21</td>\n",
       "      <td>not in universe</td>\n",
       "      <td>some college but no degree</td>\n",
       "      <td>college or university</td>\n",
       "      <td>never married</td>\n",
       "      <td>not in universe or children</td>\n",
       "      <td>not in universe</td>\n",
       "      <td>white</td>\n",
       "      <td>all other</td>\n",
       "      <td>male</td>\n",
       "      <td>...</td>\n",
       "      <td>nonmover</td>\n",
       "      <td>yes</td>\n",
       "      <td>not in universe</td>\n",
       "      <td>united-states</td>\n",
       "      <td>united-states</td>\n",
       "      <td>united-states</td>\n",
       "      <td>native- born in the united states</td>\n",
       "      <td>0</td>\n",
       "      <td>94</td>\n",
       "      <td>- 50000.</td>\n",
       "    </tr>\n",
       "  </tbody>\n",
       "</table>\n",
       "<p>3 rows × 30 columns</p>\n",
       "</div>"
      ],
      "text/plain": [
       "  age   class_of_worker                                education  \\\n",
       "0  30           private   masters degree(ma ms meng med msw mba)   \n",
       "1  60   not in universe                doctorate degree(phd edd)   \n",
       "2  21   not in universe               some college but no degree   \n",
       "\n",
       "  enroll_in_edu_inst_last_wk                      marital_stat  \\\n",
       "0            not in universe   married-civilian spouse present   \n",
       "1            not in universe   married-civilian spouse present   \n",
       "2      college or university                     never married   \n",
       "\n",
       "               major_industry_code    major_occupation_code  \\\n",
       "0   manufacturing-nondurable goods   professional specialty   \n",
       "1      not in universe or children          not in universe   \n",
       "2      not in universe or children          not in universe   \n",
       "\n",
       "                         race hispanic_origin      sex    ...      \\\n",
       "0   asian or pacific islander       all other   female    ...       \n",
       "1                       black       all other     male    ...       \n",
       "2                       white       all other     male    ...       \n",
       "\n",
       "  migration_code_move_within_reg live_in_this_house_1_year_ago  \\\n",
       "0                       nonmover                           yes   \n",
       "1                       nonmover                           yes   \n",
       "2                       nonmover                           yes   \n",
       "\n",
       "  migration_prev_res_in_sunbelt country_of_birth_father  \\\n",
       "0               not in universe                   china   \n",
       "1               not in universe           united-states   \n",
       "2               not in universe           united-states   \n",
       "\n",
       "  country_of_birth_mother country_of_birth_self  \\\n",
       "0                   china                 china   \n",
       "1           united-states         united-states   \n",
       "2           united-states         united-states   \n",
       "\n",
       "                            citizenship own_business_or_self_employed year  \\\n",
       "0   foreign born- not a citizen of u s                              0   94   \n",
       "1     native- born in the united states                             0   94   \n",
       "2     native- born in the united states                             0   94   \n",
       "\n",
       "      income  \n",
       "0   - 50000.  \n",
       "1   - 50000.  \n",
       "2   - 50000.  \n",
       "\n",
       "[3 rows x 30 columns]"
      ]
     },
     "execution_count": 14,
     "metadata": {},
     "output_type": "execute_result"
    }
   ],
   "source": [
    "df.head(3)"
   ]
  },
  {
   "cell_type": "markdown",
   "metadata": {},
   "source": [
    "## Word2Vec Embedding using the Gensim library\n",
    "Details here: https://radimrehurek.com/gensim/"
   ]
  },
  {
   "cell_type": "code",
   "execution_count": 15,
   "metadata": {},
   "outputs": [],
   "source": [
    "dfList = df.values.tolist()"
   ]
  },
  {
   "cell_type": "code",
   "execution_count": 16,
   "metadata": {},
   "outputs": [
    {
     "data": {
      "text/plain": [
       "['41',\n",
       " ' not in universe',\n",
       " ' high school graduate',\n",
       " ' not in universe',\n",
       " ' never married',\n",
       " ' not in universe or children',\n",
       " ' not in universe',\n",
       " ' white',\n",
       " ' all other',\n",
       " ' male',\n",
       " ' not in universe',\n",
       " ' not in universe',\n",
       " ' children or armed forces',\n",
       " ' nonfiler',\n",
       " ' west',\n",
       " ' new york',\n",
       " ' secondary individual',\n",
       " ' nonrelative of householder',\n",
       " ' msa to msa',\n",
       " ' same county',\n",
       " ' same county',\n",
       " ' no',\n",
       " ' yes',\n",
       " ' united-states',\n",
       " ' united-states',\n",
       " ' united-states',\n",
       " ' native- born in the united states',\n",
       " '0',\n",
       " '94',\n",
       " ' - 50000.']"
      ]
     },
     "execution_count": 16,
     "metadata": {},
     "output_type": "execute_result"
    }
   ],
   "source": [
    "dfList[5]"
   ]
  },
  {
   "cell_type": "code",
   "execution_count": 17,
   "metadata": {},
   "outputs": [
    {
     "data": {
      "text/plain": [
       "age                                        91\n",
       "class_of_worker                             9\n",
       "education                                  17\n",
       "enroll_in_edu_inst_last_wk                  3\n",
       "marital_stat                                7\n",
       "major_industry_code                        24\n",
       "major_occupation_code                      15\n",
       "race                                        5\n",
       "hispanic_origin                            10\n",
       "sex                                         2\n",
       "member_of_a_labor_union                     3\n",
       "reason_for_unemployment                     6\n",
       "full_or_part_time_employment_stat           1\n",
       "tax_filer_stat                              6\n",
       "region_of_previous_residence                6\n",
       "state_of_previous_residence                50\n",
       "detailed_household_and_family_stat         37\n",
       "detailed_household_summary_in_household     8\n",
       "migration_code_change_in_msa                9\n",
       "migration_code_change_in_reg                8\n",
       "migration_code_move_within_reg              9\n",
       "live_in_this_house_1_year_ago               3\n",
       "migration_prev_res_in_sunbelt               3\n",
       "country_of_birth_father                    40\n",
       "country_of_birth_mother                    40\n",
       "country_of_birth_self                      40\n",
       "citizenship                                 5\n",
       "own_business_or_self_employed               3\n",
       "year                                        1\n",
       "income                                      2\n",
       "dtype: int64"
      ]
     },
     "execution_count": 17,
     "metadata": {},
     "output_type": "execute_result"
    }
   ],
   "source": [
    "df.nunique()"
   ]
  },
  {
   "cell_type": "code",
   "execution_count": 18,
   "metadata": {},
   "outputs": [],
   "source": [
    "#model_1 = Word2Vec(dfList, sg=0, min_count=1, workers=8, iter=1000, window=len(dfList[0]), size=140)"
   ]
  },
  {
   "cell_type": "code",
   "execution_count": 19,
   "metadata": {},
   "outputs": [],
   "source": [
    "model = Word2Vec(dfList, sg=1, min_count=1, workers=8, iter=1000, window=len(dfList[0]))"
   ]
  },
  {
   "cell_type": "code",
   "execution_count": 20,
   "metadata": {},
   "outputs": [],
   "source": [
    "#model.wv.most_similar(\"black\", topn=50)"
   ]
  },
  {
   "cell_type": "code",
   "execution_count": 21,
   "metadata": {},
   "outputs": [],
   "source": [
    "model.save(\"CensusWord2Vec.w2v\")"
   ]
  },
  {
   "cell_type": "code",
   "execution_count": null,
   "metadata": {},
   "outputs": [],
   "source": []
  }
 ],
 "metadata": {
  "kernelspec": {
   "display_name": "Python 3",
   "language": "python",
   "name": "python3"
  },
  "language_info": {
   "codemirror_mode": {
    "name": "ipython",
    "version": 3
   },
   "file_extension": ".py",
   "mimetype": "text/x-python",
   "name": "python",
   "nbconvert_exporter": "python",
   "pygments_lexer": "ipython3",
   "version": "3.6.4"
  },
  "toc": {
   "nav_menu": {},
   "number_sections": true,
   "sideBar": true,
   "skip_h1_title": false,
   "title_cell": "Table of Contents",
   "title_sidebar": "Contents",
   "toc_cell": false,
   "toc_position": {},
   "toc_section_display": true,
   "toc_window_display": false
  }
 },
 "nbformat": 4,
 "nbformat_minor": 2
}
