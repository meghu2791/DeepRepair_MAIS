{
 "cells": [
  {
   "cell_type": "code",
   "execution_count": 75,
   "metadata": {},
   "outputs": [],
   "source": [
    "import warnings\n",
    "warnings.filterwarnings('ignore')\n",
    "import pandas as pd\n",
    "import numpy as np\n",
    "import os\n",
    "import calendar\n",
    "from sklearn.manifold import TSNE\n",
    "import matplotlib.pyplot as plt\n",
    "from keras.models import load_model\n",
    "import h5py\n",
    "import pickle\n",
    "import gensim\n",
    "from keras.preprocessing.text import Tokenizer\n",
    "from keras.preprocessing.sequence import pad_sequences\n",
    "from sklearn import metrics\n",
    "from gensim.models import KeyedVectors\n",
    "from gensim.models import FastText\n",
    "from gensim.models.wrappers import FastText\n",
    "from gensim.models import Word2Vec\n",
    "from keras.models import load_model\n",
    "from enum import Enum\n",
    "import itertools\n",
    "from collections import defaultdict\n",
    "import matplotlib.pyplot as plt\n",
    "\n",
    "from pylab import rcParams\n",
    "rcParams['figure.figsize'] = 20, 7\n",
    "%matplotlib inline\n",
    "import warnings\n",
    "warnings.filterwarnings('ignore')"
   ]
  },
  {
   "cell_type": "code",
   "execution_count": 76,
   "metadata": {},
   "outputs": [],
   "source": [
    "df = pd.read_csv('HospitalErrors.csv', encoding='utf8', dtype=object)"
   ]
  },
  {
   "cell_type": "code",
   "execution_count": 77,
   "metadata": {},
   "outputs": [
    {
     "data": {
      "text/html": [
       "<div>\n",
       "<style scoped>\n",
       "    .dataframe tbody tr th:only-of-type {\n",
       "        vertical-align: middle;\n",
       "    }\n",
       "\n",
       "    .dataframe tbody tr th {\n",
       "        vertical-align: top;\n",
       "    }\n",
       "\n",
       "    .dataframe thead th {\n",
       "        text-align: right;\n",
       "    }\n",
       "</style>\n",
       "<table border=\"1\" class=\"dataframe\">\n",
       "  <thead>\n",
       "    <tr style=\"text-align: right;\">\n",
       "      <th></th>\n",
       "      <th>ProviderNumber</th>\n",
       "      <th>HospitalName</th>\n",
       "      <th>Address1</th>\n",
       "      <th>City</th>\n",
       "      <th>State</th>\n",
       "      <th>ZipCode</th>\n",
       "      <th>CountyName</th>\n",
       "      <th>PhoneNumber</th>\n",
       "      <th>HospitalType</th>\n",
       "      <th>HospitalOwner</th>\n",
       "      <th>EmergencyService</th>\n",
       "      <th>Condition</th>\n",
       "      <th>MeasureCode</th>\n",
       "      <th>MeasureName</th>\n",
       "      <th>Score</th>\n",
       "      <th>Sample</th>\n",
       "      <th>Stateavg</th>\n",
       "    </tr>\n",
       "  </thead>\n",
       "  <tbody>\n",
       "    <tr>\n",
       "      <th>0</th>\n",
       "      <td>10021</td>\n",
       "      <td>dale medical center</td>\n",
       "      <td>126 hospital ave</td>\n",
       "      <td>ozark</td>\n",
       "      <td>al</td>\n",
       "      <td>36360</td>\n",
       "      <td>dale</td>\n",
       "      <td>3347742601</td>\n",
       "      <td>acute care hospitals</td>\n",
       "      <td>government - hospital district or authority</td>\n",
       "      <td>yxs</td>\n",
       "      <td>surgical infection prevention</td>\n",
       "      <td>scip-inf-6</td>\n",
       "      <td>surgery patients needing hair removed from the...</td>\n",
       "      <td>100%</td>\n",
       "      <td>94 patients</td>\n",
       "      <td>al_scip-inf-6:0</td>\n",
       "    </tr>\n",
       "    <tr>\n",
       "      <th>1</th>\n",
       "      <td>10035</td>\n",
       "      <td>cullman regional medical center</td>\n",
       "      <td>1912 alabama highway 157</td>\n",
       "      <td>cullman</td>\n",
       "      <td>al</td>\n",
       "      <td>35058</td>\n",
       "      <td>cullman</td>\n",
       "      <td>2567x72000</td>\n",
       "      <td>acute care hospitals</td>\n",
       "      <td>government - hospital district or authority</td>\n",
       "      <td>yes</td>\n",
       "      <td>surgical infection prevention</td>\n",
       "      <td>scip-vte-1</td>\n",
       "      <td>surgery patients whose doctors ordered treatme...</td>\n",
       "      <td>95%</td>\n",
       "      <td>298 patients</td>\n",
       "      <td>al_scip-vte-1:0</td>\n",
       "    </tr>\n",
       "  </tbody>\n",
       "</table>\n",
       "</div>"
      ],
      "text/plain": [
       "  ProviderNumber                     HospitalName                  Address1  \\\n",
       "0          10021              dale medical center          126 hospital ave   \n",
       "1          10035  cullman regional medical center  1912 alabama highway 157   \n",
       "\n",
       "      City State ZipCode CountyName PhoneNumber          HospitalType  \\\n",
       "0    ozark    al   36360       dale  3347742601  acute care hospitals   \n",
       "1  cullman    al   35058    cullman  2567x72000  acute care hospitals   \n",
       "\n",
       "                                 HospitalOwner EmergencyService  \\\n",
       "0  government - hospital district or authority              yxs   \n",
       "1  government - hospital district or authority              yes   \n",
       "\n",
       "                       Condition MeasureCode  \\\n",
       "0  surgical infection prevention  scip-inf-6   \n",
       "1  surgical infection prevention  scip-vte-1   \n",
       "\n",
       "                                         MeasureName Score        Sample  \\\n",
       "0  surgery patients needing hair removed from the...  100%   94 patients   \n",
       "1  surgery patients whose doctors ordered treatme...   95%  298 patients   \n",
       "\n",
       "          Stateavg  \n",
       "0  al_scip-inf-6:0  \n",
       "1  al_scip-vte-1:0  "
      ]
     },
     "execution_count": 77,
     "metadata": {},
     "output_type": "execute_result"
    }
   ],
   "source": [
    "df.head(2)"
   ]
  },
  {
   "cell_type": "code",
   "execution_count": 78,
   "metadata": {},
   "outputs": [
    {
     "data": {
      "text/plain": [
       "18"
      ]
     },
     "execution_count": 78,
     "metadata": {},
     "output_type": "execute_result"
    }
   ],
   "source": [
    "len(df)\n",
    "sum(df.isnull().values.ravel())"
   ]
  },
  {
   "cell_type": "code",
   "execution_count": 79,
   "metadata": {},
   "outputs": [],
   "source": [
    "dfEmpty = df[df.isnull().any(axis=1)]"
   ]
  },
  {
   "cell_type": "code",
   "execution_count": 80,
   "metadata": {},
   "outputs": [],
   "source": [
    "dfEmpty = dfEmpty.apply(lambda x: x.astype(str).str.lower())"
   ]
  },
  {
   "cell_type": "code",
   "execution_count": 81,
   "metadata": {},
   "outputs": [],
   "source": [
    "df_Nan = df\n",
    "df_Nan = df_Nan[~df_Nan.isin(dfEmpty)].dropna()\n",
    "df_Nan.to_csv(\"HospitalErrorsWithoutNan.csv\", index=False)"
   ]
  },
  {
   "cell_type": "code",
   "execution_count": 82,
   "metadata": {},
   "outputs": [],
   "source": [
    "path = \"HospitalWord2Vec.w2v\"\n",
    "word2vecModel = KeyedVectors.load(path)"
   ]
  },
  {
   "cell_type": "code",
   "execution_count": 83,
   "metadata": {},
   "outputs": [],
   "source": [
    "mapping = dict(enumerate(dfEmpty.columns.astype('category').categories))"
   ]
  },
  {
   "cell_type": "code",
   "execution_count": 84,
   "metadata": {},
   "outputs": [],
   "source": [
    "attributeMapping = {}\n",
    "for i,idx in enumerate(dfEmpty.columns):\n",
    "    attributeMapping[idx] = i"
   ]
  },
  {
   "cell_type": "code",
   "execution_count": 85,
   "metadata": {},
   "outputs": [],
   "source": [
    "inverseMapping = {y:x for x,y in attributeMapping.items()}"
   ]
  },
  {
   "cell_type": "markdown",
   "metadata": {},
   "source": [
    "## Load Attribute Classifier"
   ]
  },
  {
   "cell_type": "code",
   "execution_count": 86,
   "metadata": {},
   "outputs": [],
   "source": [
    "model = load_model('HospitalMultiAttributeClassifier.h5')"
   ]
  },
  {
   "cell_type": "code",
   "execution_count": 87,
   "metadata": {},
   "outputs": [],
   "source": [
    "with open('HospitalMultiAttributeClassifierTokenizer.pickle', 'rb') as handle:\n",
    "    tokenizer = pickle.load(handle)"
   ]
  },
  {
   "cell_type": "markdown",
   "metadata": {},
   "source": [
    "## Repair pipeline"
   ]
  },
  {
   "cell_type": "code",
   "execution_count": 88,
   "metadata": {},
   "outputs": [],
   "source": [
    "def impute(word2vecModel, model, tokenizer, rowWithMissingValue, missingType, topN=10):\n",
    "    \"\"\"\n",
    "    Returns the closest match for the missing attribute value\n",
    "    \"\"\"\n",
    "    output = dict()\n",
    "    for value in rowWithMissingValue:\n",
    "        try:\n",
    "            results = word2vecModel.wv.most_similar(value, topn=topN)\n",
    "            for match, confidence in results:\n",
    "                # Predicted type to be equal to the missing value\n",
    "                if predictAttribute(model, tokenizer, match) == missingType:\n",
    "                    if match in output and confidence <= output[match]:\n",
    "                        continue\n",
    "                    else:\n",
    "                        output[match] = confidence            \n",
    "        except KeyError:\n",
    "            continue\n",
    "    return output.items()"
   ]
  },
  {
   "cell_type": "code",
   "execution_count": 89,
   "metadata": {},
   "outputs": [],
   "source": [
    "def predictAttribute(model, tokenizer, value):\n",
    "    \"\"\"\n",
    "    Classifies value parameter as its corresponding attribute\n",
    "    \"\"\"\n",
    "    value = [value]\n",
    "    sequences = tokenizer.texts_to_sequences(value)\n",
    "    testData = pad_sequences(sequences, maxlen=184)\n",
    "    predictions = model.predict(testData)\n",
    "    return attributeMapping[mapping[np.argmax(predictions[0])]]"
   ]
  },
  {
   "cell_type": "code",
   "execution_count": 90,
   "metadata": {},
   "outputs": [],
   "source": [
    "nullRows = dfEmpty.values.tolist()\n",
    "rows = []\n",
    "#columnNames = ['ProviderNumber', 'HospitalName', 'Address1', 'City', 'ZipCode', 'CountyName', 'PhoneNumber','HospitalOwner','Condition','Sample']\n",
    "columnNames = dfEmpty.columns.tolist()\n",
    "for row in nullRows:\n",
    "    missingAttribute = None\n",
    "    removedNan = []\n",
    "    for i in range(len(row)):\n",
    "        if str(row[i]) != 'nan':\n",
    "            removedNan.append(row[i])\n",
    "        else:\n",
    "            missingAttribute = attributeMapping[columnNames[i]]\n",
    "    if missingAttribute is not None:\n",
    "        rows.append({tuple(removedNan):missingAttribute})\n",
    "    else:\n",
    "        print(row)"
   ]
  },
  {
   "cell_type": "markdown",
   "metadata": {},
   "source": [
    "## Imputation"
   ]
  },
  {
   "cell_type": "code",
   "execution_count": 91,
   "metadata": {},
   "outputs": [],
   "source": [
    "def getImputedValue(missingRow, attributeType):\n",
    "    results = impute(word2vecModel, model, tokenizer, missingRow, attributeType, 100)\n",
    "    return sorted(results, key=lambda x: x[1], reverse=True)[0] if results else None"
   ]
  },
  {
   "cell_type": "markdown",
   "metadata": {},
   "source": [
    "## Build verification pipeline"
   ]
  },
  {
   "cell_type": "code",
   "execution_count": 92,
   "metadata": {},
   "outputs": [],
   "source": [
    "dfClean = pd.read_csv('clean_hospital_dataset_hc.csv', encoding='utf8', dtype='object')\n",
    "dfClean.replace(np.nan,'empty',inplace = True)"
   ]
  },
  {
   "cell_type": "code",
   "execution_count": 93,
   "metadata": {},
   "outputs": [],
   "source": [
    "dfUnique = dfClean.drop_duplicates()"
   ]
  },
  {
   "cell_type": "code",
   "execution_count": 94,
   "metadata": {},
   "outputs": [],
   "source": [
    "queryMapping = {}\n",
    "attributeNames = dfClean.columns.tolist()\n",
    "for i in attributeNames:\n",
    "    for j in attributeNames:\n",
    "        if i!=j:\n",
    "            if i in queryMapping:\n",
    "                queryMapping[i] = queryMapping.get(i) + ' and  ' + str(j + '==\"{}\"')\n",
    "            else:\n",
    "                queryMapping[i] = str(j + '==\"{}\"') "
   ]
  },
  {
   "cell_type": "code",
   "execution_count": 95,
   "metadata": {},
   "outputs": [],
   "source": [
    "correct = 0\n",
    "inCorrect = 0\n",
    "incorrectPredictions = []"
   ]
  },
  {
   "cell_type": "code",
   "execution_count": 96,
   "metadata": {},
   "outputs": [],
   "source": [
    "count = 0\n",
    "for row in rows:\n",
    "    missingRow = list(row.keys())[0]\n",
    "    attribute = list(row.values())[0]\n",
    "    missingRow = [i.strip() for i in missingRow]\n",
    "    # Run the query\n",
    "    query = (queryMapping[inverseMapping[attribute]]).format(*missingRow)\n",
    "    outputDf = dfClean.query(query)\n",
    "    actual = outputDf.head(1)[inverseMapping[attribute]].to_string(index=False)\n",
    "    if actual == 'empty':\n",
    "        continue\n",
    "    predicted = getImputedValue(missingRow, attribute) \n",
    "    if predicted and actual == predicted[0]:\n",
    "        correct += 1\n",
    "    else:\n",
    "        inCorrect += 1\n",
    "        incorrectPredictions.append((actual, predicted[0] if predicted else None)) "
   ]
  },
  {
   "cell_type": "markdown",
   "metadata": {},
   "source": [
    "## Read data\n",
    "Details here: https://fasttext.cc/"
   ]
  },
  {
   "cell_type": "markdown",
   "metadata": {},
   "source": [
    "## For truth validation read clean dataset"
   ]
  },
  {
   "cell_type": "code",
   "execution_count": 97,
   "metadata": {},
   "outputs": [],
   "source": [
    "df_truth = pd.read_csv('clean_hospital_dataset_hc.csv',dtype=object, encoding='utf8', index_col=False)"
   ]
  },
  {
   "cell_type": "markdown",
   "metadata": {},
   "source": [
    "## Read dirty dataset from imputation"
   ]
  },
  {
   "cell_type": "code",
   "execution_count": 98,
   "metadata": {},
   "outputs": [],
   "source": [
    "df_dirty = pd.read_csv('HospitalErrorsWithoutNan.csv',dtype=object, encoding='utf8', index_col=False)"
   ]
  },
  {
   "cell_type": "code",
   "execution_count": 99,
   "metadata": {},
   "outputs": [
    {
     "data": {
      "text/html": [
       "<div>\n",
       "<style scoped>\n",
       "    .dataframe tbody tr th:only-of-type {\n",
       "        vertical-align: middle;\n",
       "    }\n",
       "\n",
       "    .dataframe tbody tr th {\n",
       "        vertical-align: top;\n",
       "    }\n",
       "\n",
       "    .dataframe thead th {\n",
       "        text-align: right;\n",
       "    }\n",
       "</style>\n",
       "<table border=\"1\" class=\"dataframe\">\n",
       "  <thead>\n",
       "    <tr style=\"text-align: right;\">\n",
       "      <th></th>\n",
       "      <th>ProviderNumber</th>\n",
       "      <th>HospitalName</th>\n",
       "      <th>Address1</th>\n",
       "      <th>City</th>\n",
       "      <th>State</th>\n",
       "      <th>ZipCode</th>\n",
       "      <th>CountyName</th>\n",
       "      <th>PhoneNumber</th>\n",
       "      <th>HospitalType</th>\n",
       "      <th>HospitalOwner</th>\n",
       "      <th>EmergencyService</th>\n",
       "      <th>Condition</th>\n",
       "      <th>MeasureCode</th>\n",
       "      <th>MeasureName</th>\n",
       "      <th>Score</th>\n",
       "      <th>Sample</th>\n",
       "      <th>Stateavg</th>\n",
       "    </tr>\n",
       "  </thead>\n",
       "  <tbody>\n",
       "    <tr>\n",
       "      <th>0</th>\n",
       "      <td>10018</td>\n",
       "      <td>callahan eye foundation hospital</td>\n",
       "      <td>1720 university blvd</td>\n",
       "      <td>birmingham</td>\n",
       "      <td>al</td>\n",
       "      <td>35233</td>\n",
       "      <td>jefferson</td>\n",
       "      <td>2053258100</td>\n",
       "      <td>acute care hospitals</td>\n",
       "      <td>voluntary non-profit - private</td>\n",
       "      <td>yes</td>\n",
       "      <td>surgical infection prevention</td>\n",
       "      <td>scip-card-2</td>\n",
       "      <td>surgery patients who were taking heart drugs c...</td>\n",
       "      <td>empty</td>\n",
       "      <td>empty</td>\n",
       "      <td>al_scip-card-2</td>\n",
       "    </tr>\n",
       "    <tr>\n",
       "      <th>1</th>\n",
       "      <td>10018</td>\n",
       "      <td>callahan eye foundation hospital</td>\n",
       "      <td>1720 university blvd</td>\n",
       "      <td>birmingham</td>\n",
       "      <td>al</td>\n",
       "      <td>35233</td>\n",
       "      <td>jefferson</td>\n",
       "      <td>2053258100</td>\n",
       "      <td>acute care hospitals</td>\n",
       "      <td>voluntary non-profit - private</td>\n",
       "      <td>yes</td>\n",
       "      <td>surgical infection prevention</td>\n",
       "      <td>scip-inf-1</td>\n",
       "      <td>surgery patients who were given an antibiotic ...</td>\n",
       "      <td>empty</td>\n",
       "      <td>empty</td>\n",
       "      <td>al_scip-inf-1</td>\n",
       "    </tr>\n",
       "  </tbody>\n",
       "</table>\n",
       "</div>"
      ],
      "text/plain": [
       "  ProviderNumber                      HospitalName              Address1  \\\n",
       "0          10018  callahan eye foundation hospital  1720 university blvd   \n",
       "1          10018  callahan eye foundation hospital  1720 university blvd   \n",
       "\n",
       "         City State ZipCode CountyName PhoneNumber          HospitalType  \\\n",
       "0  birmingham    al   35233  jefferson  2053258100  acute care hospitals   \n",
       "1  birmingham    al   35233  jefferson  2053258100  acute care hospitals   \n",
       "\n",
       "                    HospitalOwner EmergencyService  \\\n",
       "0  voluntary non-profit - private              yes   \n",
       "1  voluntary non-profit - private              yes   \n",
       "\n",
       "                       Condition  MeasureCode  \\\n",
       "0  surgical infection prevention  scip-card-2   \n",
       "1  surgical infection prevention   scip-inf-1   \n",
       "\n",
       "                                         MeasureName  Score Sample  \\\n",
       "0  surgery patients who were taking heart drugs c...  empty  empty   \n",
       "1  surgery patients who were given an antibiotic ...  empty  empty   \n",
       "\n",
       "         Stateavg  \n",
       "0  al_scip-card-2  \n",
       "1   al_scip-inf-1  "
      ]
     },
     "execution_count": 99,
     "metadata": {},
     "output_type": "execute_result"
    }
   ],
   "source": [
    "df_truth.head(2)"
   ]
  },
  {
   "cell_type": "code",
   "execution_count": 100,
   "metadata": {},
   "outputs": [
    {
     "data": {
      "text/html": [
       "<div>\n",
       "<style scoped>\n",
       "    .dataframe tbody tr th:only-of-type {\n",
       "        vertical-align: middle;\n",
       "    }\n",
       "\n",
       "    .dataframe tbody tr th {\n",
       "        vertical-align: top;\n",
       "    }\n",
       "\n",
       "    .dataframe thead th {\n",
       "        text-align: right;\n",
       "    }\n",
       "</style>\n",
       "<table border=\"1\" class=\"dataframe\">\n",
       "  <thead>\n",
       "    <tr style=\"text-align: right;\">\n",
       "      <th></th>\n",
       "      <th>ProviderNumber</th>\n",
       "      <th>HospitalName</th>\n",
       "      <th>Address1</th>\n",
       "      <th>City</th>\n",
       "      <th>State</th>\n",
       "      <th>ZipCode</th>\n",
       "      <th>CountyName</th>\n",
       "      <th>PhoneNumber</th>\n",
       "      <th>HospitalType</th>\n",
       "      <th>HospitalOwner</th>\n",
       "      <th>EmergencyService</th>\n",
       "      <th>Condition</th>\n",
       "      <th>MeasureCode</th>\n",
       "      <th>MeasureName</th>\n",
       "      <th>Score</th>\n",
       "      <th>Sample</th>\n",
       "      <th>Stateavg</th>\n",
       "    </tr>\n",
       "  </thead>\n",
       "  <tbody>\n",
       "    <tr>\n",
       "      <th>0</th>\n",
       "      <td>10021</td>\n",
       "      <td>dale medical center</td>\n",
       "      <td>126 hospital ave</td>\n",
       "      <td>ozark</td>\n",
       "      <td>al</td>\n",
       "      <td>36360</td>\n",
       "      <td>dale</td>\n",
       "      <td>3347742601</td>\n",
       "      <td>acute care hospitals</td>\n",
       "      <td>government - hospital district or authority</td>\n",
       "      <td>yxs</td>\n",
       "      <td>surgical infection prevention</td>\n",
       "      <td>scip-inf-6</td>\n",
       "      <td>surgery patients needing hair removed from the...</td>\n",
       "      <td>100%</td>\n",
       "      <td>94 patients</td>\n",
       "      <td>al_scip-inf-6:0</td>\n",
       "    </tr>\n",
       "    <tr>\n",
       "      <th>1</th>\n",
       "      <td>10035</td>\n",
       "      <td>cullman regional medical center</td>\n",
       "      <td>1912 alabama highway 157</td>\n",
       "      <td>cullman</td>\n",
       "      <td>al</td>\n",
       "      <td>35058</td>\n",
       "      <td>cullman</td>\n",
       "      <td>2567x72000</td>\n",
       "      <td>acute care hospitals</td>\n",
       "      <td>government - hospital district or authority</td>\n",
       "      <td>yes</td>\n",
       "      <td>surgical infection prevention</td>\n",
       "      <td>scip-vte-1</td>\n",
       "      <td>surgery patients whose doctors ordered treatme...</td>\n",
       "      <td>95%</td>\n",
       "      <td>298 patients</td>\n",
       "      <td>al_scip-vte-1:0</td>\n",
       "    </tr>\n",
       "  </tbody>\n",
       "</table>\n",
       "</div>"
      ],
      "text/plain": [
       "  ProviderNumber                     HospitalName                  Address1  \\\n",
       "0          10021              dale medical center          126 hospital ave   \n",
       "1          10035  cullman regional medical center  1912 alabama highway 157   \n",
       "\n",
       "      City State ZipCode CountyName PhoneNumber          HospitalType  \\\n",
       "0    ozark    al   36360       dale  3347742601  acute care hospitals   \n",
       "1  cullman    al   35058    cullman  2567x72000  acute care hospitals   \n",
       "\n",
       "                                 HospitalOwner EmergencyService  \\\n",
       "0  government - hospital district or authority              yxs   \n",
       "1  government - hospital district or authority              yes   \n",
       "\n",
       "                       Condition MeasureCode  \\\n",
       "0  surgical infection prevention  scip-inf-6   \n",
       "1  surgical infection prevention  scip-vte-1   \n",
       "\n",
       "                                         MeasureName Score        Sample  \\\n",
       "0  surgery patients needing hair removed from the...  100%   94 patients   \n",
       "1  surgery patients whose doctors ordered treatme...   95%  298 patients   \n",
       "\n",
       "          Stateavg  \n",
       "0  al_scip-inf-6:0  \n",
       "1  al_scip-vte-1:0  "
      ]
     },
     "execution_count": 100,
     "metadata": {},
     "output_type": "execute_result"
    }
   ],
   "source": [
    "df_dirty.head(2)"
   ]
  },
  {
   "cell_type": "markdown",
   "metadata": {},
   "source": [
    "## Preprocessing"
   ]
  },
  {
   "cell_type": "code",
   "execution_count": 101,
   "metadata": {},
   "outputs": [],
   "source": [
    "combined_hosp = df_truth.values.tolist()\n",
    "combined_dirty = df_dirty.values.tolist()"
   ]
  },
  {
   "cell_type": "code",
   "execution_count": 102,
   "metadata": {},
   "outputs": [],
   "source": [
    "columns = df_truth.columns.values"
   ]
  },
  {
   "cell_type": "code",
   "execution_count": 103,
   "metadata": {},
   "outputs": [],
   "source": [
    "uniqueValues = {}\n",
    "for i in df_truth.columns:\n",
    "    uniqueValues[i] = set(df_truth[i].tolist())  "
   ]
  },
  {
   "cell_type": "code",
   "execution_count": 104,
   "metadata": {
    "scrolled": true
   },
   "outputs": [
    {
     "data": {
      "text/plain": [
       "array(['ProviderNumber', 'HospitalName', 'Address1', 'City', 'State',\n",
       "       'ZipCode', 'CountyName', 'PhoneNumber', 'HospitalType',\n",
       "       'HospitalOwner', 'EmergencyService', 'Condition', 'MeasureCode',\n",
       "       'MeasureName', 'Score', 'Sample', 'Stateavg'], dtype=object)"
      ]
     },
     "execution_count": 104,
     "metadata": {},
     "output_type": "execute_result"
    }
   ],
   "source": [
    "columns"
   ]
  },
  {
   "cell_type": "markdown",
   "metadata": {},
   "source": [
    "## Model"
   ]
  },
  {
   "cell_type": "code",
   "execution_count": 105,
   "metadata": {},
   "outputs": [],
   "source": [
    "path = 'HospitalFastText.w2v'\n",
    "fastTextModel = KeyedVectors.load(path)"
   ]
  },
  {
   "cell_type": "code",
   "execution_count": 106,
   "metadata": {},
   "outputs": [],
   "source": [
    "model = load_model('HospitalMultiAttributeClassifier.h5')\n",
    "with open('HospitalMultiAttributeClassifierTokenizer.pickle', 'rb') as handle:\n",
    "    tokenizer = pickle.load(handle)"
   ]
  },
  {
   "cell_type": "code",
   "execution_count": 107,
   "metadata": {},
   "outputs": [],
   "source": [
    "mapping = dict(enumerate(sorted(df_truth.columns.values)))"
   ]
  },
  {
   "cell_type": "code",
   "execution_count": 108,
   "metadata": {},
   "outputs": [
    {
     "data": {
      "text/plain": [
       "{0: 'Address1',\n",
       " 1: 'City',\n",
       " 2: 'Condition',\n",
       " 3: 'CountyName',\n",
       " 4: 'EmergencyService',\n",
       " 5: 'HospitalName',\n",
       " 6: 'HospitalOwner',\n",
       " 7: 'HospitalType',\n",
       " 8: 'MeasureCode',\n",
       " 9: 'MeasureName',\n",
       " 10: 'PhoneNumber',\n",
       " 11: 'ProviderNumber',\n",
       " 12: 'Sample',\n",
       " 13: 'Score',\n",
       " 14: 'State',\n",
       " 15: 'Stateavg',\n",
       " 16: 'ZipCode'}"
      ]
     },
     "execution_count": 108,
     "metadata": {},
     "output_type": "execute_result"
    }
   ],
   "source": [
    "mapping"
   ]
  },
  {
   "cell_type": "code",
   "execution_count": 109,
   "metadata": {},
   "outputs": [],
   "source": [
    "attributeMapping = {}\n",
    "for i,idx in enumerate(df_truth.columns):\n",
    "    attributeMapping[i] = idx"
   ]
  },
  {
   "cell_type": "markdown",
   "metadata": {},
   "source": [
    "## Correction Pipeline"
   ]
  },
  {
   "cell_type": "code",
   "execution_count": 110,
   "metadata": {},
   "outputs": [],
   "source": [
    "def predictAttribute(model, tokenizer, value):\n",
    "    \"\"\"\n",
    "    Classifies value parameter as its corresponding attribute\n",
    "    \"\"\"\n",
    "    value = [value]\n",
    "    sequences = tokenizer.texts_to_sequences(value)\n",
    "    testData = pad_sequences(sequences, maxlen=184)\n",
    "    predictions = model.predict(testData)\n",
    "    return mapping[np.argmax(predictions[0])]"
   ]
  },
  {
   "cell_type": "code",
   "execution_count": 111,
   "metadata": {},
   "outputs": [],
   "source": [
    "def correctCell(fastTextModel, model, tokenizer, row, topN=10):\n",
    "    cellValues = {}\n",
    "    output = dict()\n",
    "    isMistake = False\n",
    "    for cellIndex in range(len(row)):\n",
    "        currentCellValue = row[cellIndex]\n",
    "        if not currentCellValue in uniqueValues[attributeMapping[cellIndex]]:\n",
    "            isMistake = True\n",
    "            cellValues['mistakeDetected'] = currentCellValue\n",
    "            try:\n",
    "                predictions = fastTextModel.most_similar(currentCellValue, topn=topN)\n",
    "                for match, confidence in predictions:\n",
    "                # Predicted type to be equal to the missing value\n",
    "                    if predictAttribute(model, tokenizer, match) == columns[cellIndex]:\n",
    "                        if match in output and confidence <= output[match]:\n",
    "                            continue\n",
    "                        else:\n",
    "                            output[match] = confidence\n",
    "            except:\n",
    "                possibleValues = uniqueValues[attributeMapping[cellIndex]]\n",
    "                maxScore = 0.0\n",
    "                for i in possibleValues:\n",
    "                    str1 = set(currentCellValue)\n",
    "                    str2 = set(i)\n",
    "                    score = float(len(str1 & str2)) / len(str1 | str2)\n",
    "                    if maxScore < score:\n",
    "                        maxScore = score\n",
    "                        output[i] = score\n",
    "    \n",
    "    if isMistake:\n",
    "        results = output.items()\n",
    "        predictedValue = sorted(results, key=lambda x: x[1], reverse=True)[0] if results else None\n",
    "        cellValues['predictedValue'] = predictedValue[0] if predictedValue else None\n",
    "        return cellValues\n",
    "    else:\n",
    "        return None"
   ]
  },
  {
   "cell_type": "markdown",
   "metadata": {},
   "source": [
    "## Verification pipeline"
   ]
  },
  {
   "cell_type": "code",
   "execution_count": 112,
   "metadata": {},
   "outputs": [],
   "source": [
    "dfUnique = df_truth.drop_duplicates()"
   ]
  },
  {
   "cell_type": "code",
   "execution_count": 113,
   "metadata": {},
   "outputs": [
    {
     "data": {
      "text/plain": [
       "1000"
      ]
     },
     "execution_count": 113,
     "metadata": {},
     "output_type": "execute_result"
    }
   ],
   "source": [
    "len(dfUnique)"
   ]
  },
  {
   "cell_type": "code",
   "execution_count": 114,
   "metadata": {},
   "outputs": [],
   "source": [
    "queryMapping = {}\n",
    "attributeNames = df_truth.columns.tolist()\n",
    "for i in attributeNames:\n",
    "    for j in attributeNames:\n",
    "        if i!=j:\n",
    "            if i in queryMapping:\n",
    "                queryMapping[i] = queryMapping.get(i) + ' and  ' + str(j + '==\"{}\"')\n",
    "            else:\n",
    "                queryMapping[i] = str(j + '==\"{}\"') "
   ]
  },
  {
   "cell_type": "code",
   "execution_count": 115,
   "metadata": {},
   "outputs": [],
   "source": [
    "correct = 0\n",
    "inCorrect = 0\n",
    "incorrectPredictions = []"
   ]
  },
  {
   "cell_type": "code",
   "execution_count": 119,
   "metadata": {},
   "outputs": [
    {
     "name": "stdout",
     "output_type": "stream",
     "text": [
      "{'mistakeDetected': 'al_scip-inf-6:0', 'predictedValue': 'yes'}\n",
      "ProviderNumber==\"10021\" and  HospitalName==\"dale medical center\" and  Address1==\"126 hospital ave\" and  City==\"ozark\" and  State==\"al\" and  ZipCode==\"36360\" and  CountyName==\"dale\" and  PhoneNumber==\"3347742601\" and  HospitalType==\"acute care hospitals\" and  HospitalOwner==\"government - hospital district or authority\" and  EmergencyService==\"yxs\" and  Condition==\"surgical infection prevention\" and  MeasureCode==\"scip-inf-6\" and  MeasureName==\"surgery patients needing hair removed from the surgical area before surgery who had hair removed using a safer method (electric clippers or hair removal cream �c not a razor)\" and  Score==\"100%\" and  Sample==\"94 patients\"\n"
     ]
    },
    {
     "ename": "IndexError",
     "evalue": "list index out of range",
     "output_type": "error",
     "traceback": [
      "\u001b[0;31m---------------------------------------------------------------------------\u001b[0m",
      "\u001b[0;31mIndexError\u001b[0m                                Traceback (most recent call last)",
      "\u001b[0;32m<ipython-input-119-6e9154a255aa>\u001b[0m in \u001b[0;36m<module>\u001b[0;34m()\u001b[0m\n\u001b[1;32m     15\u001b[0m         \u001b[0moutputDf\u001b[0m \u001b[0;34m=\u001b[0m \u001b[0mdfUnique\u001b[0m\u001b[0;34m.\u001b[0m\u001b[0mquery\u001b[0m\u001b[0;34m(\u001b[0m\u001b[0mquery\u001b[0m\u001b[0;34m)\u001b[0m\u001b[0;34m\u001b[0m\u001b[0m\n\u001b[1;32m     16\u001b[0m         \u001b[0mprint\u001b[0m\u001b[0;34m(\u001b[0m\u001b[0mquery\u001b[0m\u001b[0;34m)\u001b[0m\u001b[0;34m\u001b[0m\u001b[0m\n\u001b[0;32m---> 17\u001b[0;31m         \u001b[0mactual\u001b[0m \u001b[0;34m=\u001b[0m \u001b[0moutputDf\u001b[0m\u001b[0;34m.\u001b[0m\u001b[0mhead\u001b[0m\u001b[0;34m(\u001b[0m\u001b[0;36m1\u001b[0m\u001b[0;34m)\u001b[0m\u001b[0;34m.\u001b[0m\u001b[0mvalues\u001b[0m\u001b[0;34m.\u001b[0m\u001b[0mtolist\u001b[0m\u001b[0;34m(\u001b[0m\u001b[0;34m)\u001b[0m\u001b[0;34m[\u001b[0m\u001b[0;36m0\u001b[0m\u001b[0;34m]\u001b[0m\u001b[0;34m[\u001b[0m\u001b[0merrorIndex\u001b[0m\u001b[0;34m]\u001b[0m\u001b[0;34m\u001b[0m\u001b[0m\n\u001b[0m\u001b[1;32m     18\u001b[0m \u001b[0;34m\u001b[0m\u001b[0m\n\u001b[1;32m     19\u001b[0m         \u001b[0;32mif\u001b[0m \u001b[0mactual\u001b[0m \u001b[0;34m==\u001b[0m \u001b[0mpredictedValue\u001b[0m\u001b[0;34m:\u001b[0m\u001b[0;34m\u001b[0m\u001b[0m\n",
      "\u001b[0;31mIndexError\u001b[0m: list index out of range"
     ]
    }
   ],
   "source": [
    "for row in combined_dirty:\n",
    "    output = correctCell(fastTextModel, model, tokenizer, row, 15)\n",
    "    print(output)\n",
    "    if output:\n",
    "        detectedError = output['mistakeDetected']\n",
    "        predictedValue = output['predictedValue']\n",
    "    \n",
    "        tempRow = row[:]\n",
    "        errorIndex = row.index(detectedError)\n",
    "        tempRow.remove(detectedError)\n",
    "\n",
    "        # Run the query\n",
    "        #print(tempRow)\n",
    "        query = (queryMapping[columns[errorIndex]]).format(*tempRow)\n",
    "        outputDf = dfUnique.query(query)\n",
    "        print(query)\n",
    "        actual = outputDf.head(1).values.tolist()[0][errorIndex]\n",
    "\n",
    "        if actual == predictedValue:\n",
    "            correct += 1\n",
    "        else:\n",
    "            inCorrect += 1\n",
    "            incorrectPredictions.append((actual, detectedError, predictedValue, errorIndex))"
   ]
  },
  {
   "cell_type": "markdown",
   "metadata": {},
   "source": [
    "## Results"
   ]
  },
  {
   "cell_type": "code",
   "execution_count": null,
   "metadata": {},
   "outputs": [],
   "source": [
    "correct"
   ]
  },
  {
   "cell_type": "code",
   "execution_count": null,
   "metadata": {},
   "outputs": [],
   "source": [
    "inCorrect"
   ]
  },
  {
   "cell_type": "code",
   "execution_count": null,
   "metadata": {},
   "outputs": [],
   "source": [
    "incorrectPredictions"
   ]
  },
  {
   "cell_type": "code",
   "execution_count": null,
   "metadata": {},
   "outputs": [],
   "source": [
    "accuracy = correct / (correct + inCorrect) * 1.0"
   ]
  },
  {
   "cell_type": "code",
   "execution_count": null,
   "metadata": {},
   "outputs": [],
   "source": [
    "accuracy"
   ]
  },
  {
   "cell_type": "code",
   "execution_count": null,
   "metadata": {},
   "outputs": [],
   "source": [
    "errorAnalysis = defaultdict(int)\n",
    "for actual, detectedError, predictedValue, errorIndex  in incorrectPredictions:\n",
    "    errorAnalysis[errorIndex] += 1"
   ]
  },
  {
   "cell_type": "code",
   "execution_count": null,
   "metadata": {},
   "outputs": [],
   "source": [
    "plt.bar(range(len(errorAnalysis)), list(errorAnalysis.values()), align='center')\n",
    "plt.xticks(range(len(errorAnalysis)), list(errorAnalysis.keys()))\n",
    "plt.show()"
   ]
  },
  {
   "cell_type": "code",
   "execution_count": null,
   "metadata": {},
   "outputs": [],
   "source": [
    "inverseMapping"
   ]
  },
  {
   "cell_type": "code",
   "execution_count": null,
   "metadata": {},
   "outputs": [],
   "source": []
  }
 ],
 "metadata": {
  "kernelspec": {
   "display_name": "Python 3",
   "language": "python",
   "name": "python3"
  },
  "language_info": {
   "codemirror_mode": {
    "name": "ipython",
    "version": 3
   },
   "file_extension": ".py",
   "mimetype": "text/x-python",
   "name": "python",
   "nbconvert_exporter": "python",
   "pygments_lexer": "ipython3",
   "version": "3.6.4"
  },
  "toc": {
   "nav_menu": {},
   "number_sections": true,
   "sideBar": true,
   "skip_h1_title": true,
   "title_cell": "Table of Contents",
   "title_sidebar": "Contents",
   "toc_cell": false,
   "toc_position": {},
   "toc_section_display": true,
   "toc_window_display": false
  }
 },
 "nbformat": 4,
 "nbformat_minor": 2
}
