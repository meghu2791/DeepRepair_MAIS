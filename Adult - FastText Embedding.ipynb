{
 "cells": [
  {
   "cell_type": "markdown",
   "metadata": {},
   "source": [
    "# Record Embedding"
   ]
  },
  {
   "cell_type": "code",
   "execution_count": 1,
   "metadata": {},
   "outputs": [],
   "source": [
    "import pandas as pd\n",
    "import numpy as np\n",
    "import os\n",
    "import calendar\n",
    "from sklearn.manifold import TSNE\n",
    "import matplotlib.pyplot as plt\n",
    "%matplotlib inline"
   ]
  },
  {
   "cell_type": "markdown",
   "metadata": {},
   "source": [
    "## Embedding using fastText\n",
    "Details here: https://fasttext.cc/"
   ]
  },
  {
   "cell_type": "code",
   "execution_count": 2,
   "metadata": {},
   "outputs": [],
   "source": [
    "import warnings\n",
    "warnings.filterwarnings('ignore')\n",
    "import fastText\n",
    "from fastText import train_unsupervised\n",
    "import gensim\n",
    "from gensim.models import FastText"
   ]
  },
  {
   "cell_type": "markdown",
   "metadata": {},
   "source": [
    "Convert each tuple into a row"
   ]
  },
  {
   "cell_type": "code",
   "execution_count": 3,
   "metadata": {},
   "outputs": [
    {
     "data": {
      "text/html": [
       "<div>\n",
       "<style scoped>\n",
       "    .dataframe tbody tr th:only-of-type {\n",
       "        vertical-align: middle;\n",
       "    }\n",
       "\n",
       "    .dataframe tbody tr th {\n",
       "        vertical-align: top;\n",
       "    }\n",
       "\n",
       "    .dataframe thead th {\n",
       "        text-align: right;\n",
       "    }\n",
       "</style>\n",
       "<table border=\"1\" class=\"dataframe\">\n",
       "  <thead>\n",
       "    <tr style=\"text-align: right;\">\n",
       "      <th></th>\n",
       "      <th>Unnamed: 0</th>\n",
       "      <th>age</th>\n",
       "      <th>workclass</th>\n",
       "      <th>fnlwgt</th>\n",
       "      <th>education</th>\n",
       "      <th>educationnum</th>\n",
       "      <th>maritalstatus</th>\n",
       "      <th>occupation</th>\n",
       "      <th>relationship</th>\n",
       "      <th>race</th>\n",
       "      <th>sex</th>\n",
       "      <th>capitalgain</th>\n",
       "      <th>capitalloss</th>\n",
       "      <th>hoursperweek</th>\n",
       "      <th>nativecountry</th>\n",
       "      <th>income</th>\n",
       "    </tr>\n",
       "  </thead>\n",
       "  <tbody>\n",
       "    <tr>\n",
       "      <th>0</th>\n",
       "      <td>12774</td>\n",
       "      <td>25</td>\n",
       "      <td>private</td>\n",
       "      <td>57635</td>\n",
       "      <td>assoc-voc</td>\n",
       "      <td>11</td>\n",
       "      <td>married-civ-spouse</td>\n",
       "      <td>sales</td>\n",
       "      <td>wife</td>\n",
       "      <td>white</td>\n",
       "      <td>female</td>\n",
       "      <td>0</td>\n",
       "      <td>0</td>\n",
       "      <td>42</td>\n",
       "      <td>united-states</td>\n",
       "      <td>&gt;50k</td>\n",
       "    </tr>\n",
       "    <tr>\n",
       "      <th>1</th>\n",
       "      <td>32523</td>\n",
       "      <td>27</td>\n",
       "      <td>private</td>\n",
       "      <td>177398</td>\n",
       "      <td>hs-grad</td>\n",
       "      <td>9</td>\n",
       "      <td>never-married</td>\n",
       "      <td>other-service</td>\n",
       "      <td>unmarried</td>\n",
       "      <td>white</td>\n",
       "      <td>female</td>\n",
       "      <td>0</td>\n",
       "      <td>0</td>\n",
       "      <td>64</td>\n",
       "      <td>united-states</td>\n",
       "      <td>&lt;=50k</td>\n",
       "    </tr>\n",
       "    <tr>\n",
       "      <th>2</th>\n",
       "      <td>12905</td>\n",
       "      <td>43</td>\n",
       "      <td>private</td>\n",
       "      <td>162108</td>\n",
       "      <td>bachelors</td>\n",
       "      <td>13</td>\n",
       "      <td>never-married</td>\n",
       "      <td>adm-clerical</td>\n",
       "      <td>not-in-family</td>\n",
       "      <td>white</td>\n",
       "      <td>female</td>\n",
       "      <td>0</td>\n",
       "      <td>0</td>\n",
       "      <td>40</td>\n",
       "      <td>united-states</td>\n",
       "      <td>&lt;=50k</td>\n",
       "    </tr>\n",
       "  </tbody>\n",
       "</table>\n",
       "</div>"
      ],
      "text/plain": [
       "  Unnamed: 0 age workclass  fnlwgt  education educationnum  \\\n",
       "0      12774  25   private   57635  assoc-voc           11   \n",
       "1      32523  27   private  177398    hs-grad            9   \n",
       "2      12905  43   private  162108  bachelors           13   \n",
       "\n",
       "        maritalstatus     occupation   relationship   race     sex  \\\n",
       "0  married-civ-spouse          sales           wife  white  female   \n",
       "1       never-married  other-service      unmarried  white  female   \n",
       "2       never-married   adm-clerical  not-in-family  white  female   \n",
       "\n",
       "  capitalgain capitalloss hoursperweek  nativecountry income  \n",
       "0           0           0           42  united-states   >50k  \n",
       "1           0           0           64  united-states  <=50k  \n",
       "2           0           0           40  united-states  <=50k  "
      ]
     },
     "execution_count": 3,
     "metadata": {},
     "output_type": "execute_result"
    }
   ],
   "source": [
    "\n",
    "#df = pd.read_csv('truth_values_1100_tuples.csv',dtype=object, encoding='utf8')\n",
    "df = pd.read_csv(\"adult.csv\",dtype=object, encoding='utf8')\n",
    "df = df.sample(frac=1).reset_index(drop=True)\n",
    "df.head(3)"
   ]
  },
  {
   "cell_type": "code",
   "execution_count": 4,
   "metadata": {},
   "outputs": [],
   "source": [
    "#training the model with truth data.\n",
    "import tempfile\n",
    "data = []\n",
    "dfList = df.values.tolist()\n",
    "for line in dfList:\n",
    "    line = [l.lower() for l in line]\n",
    "    data.append(line)\n",
    "\n",
    "with tempfile.NamedTemporaryFile(delete=False) as tmpf:\n",
    "            for line in dfList:\n",
    "                line = [l.lower() for l in line]\n",
    "                tmpf.write(\"{}\\n\".format(line).encode())\n",
    "            tmpf.flush()"
   ]
  },
  {
   "cell_type": "code",
   "execution_count": 5,
   "metadata": {},
   "outputs": [],
   "source": [
    "#model_hosp = train_unsupervised(input=tmpf.name, model='skipgram', ws=df.shape[1])"
   ]
  },
  {
   "cell_type": "code",
   "execution_count": 6,
   "metadata": {},
   "outputs": [],
   "source": [
    "model_census = FastText(data, min_count=1, workers=8, iter=500, window=df.shape[1], sg=1)"
   ]
  },
  {
   "cell_type": "markdown",
   "metadata": {},
   "source": [
    "from numpy import dot\n",
    "from numpy.linalg import norm\n",
    "\n",
    "class FastTextNN:\n",
    "    def __init__(self, ft_model, ft_matrix=None):\n",
    "        self.ft_model = ft_model        \n",
    "        self.ft_words = ft_model.get_words()\n",
    "        #print(self.ft_words)\n",
    "        self.word_frequencies = dict(zip(*ft_model.get_words(include_freq=True)))\n",
    "        #print(self.word_frequencies)\n",
    "        self.ft_matrix = ft_matrix\n",
    "        if self.ft_matrix is None:\n",
    "            self.ft_matrix = np.empty((len(self.ft_words), ft_model.get_dimension()))\n",
    "            for i, word in enumerate(self.ft_words):\n",
    "                self.ft_matrix[i,:] = ft_model.get_word_vector(word)\n",
    "                \n",
    "    def find_nearest_neighbor(self, query, vectors, n=10,  cossims=None):\n",
    "        \"\"\"\n",
    "        query is a 1d numpy array corresponding to the vector to which you want to\n",
    "        find the closest vector\n",
    "        vectors is a 2d numpy array corresponding to the vectors you want to consider\n",
    "\n",
    "        cossims is a 1d numpy array of size len(vectors), which can be passed for efficiency\n",
    "        returns the index of the closest n matches to query within vectors and the cosine similarity (cosine the angle between the vectors)\n",
    "\n",
    "        \"\"\"\n",
    "        at = []\n",
    "        if cossims is None:\n",
    "            minVal = 32\n",
    "            #print(vectors.shape)\n",
    "            cossims = np.matmul(vectors, query, out=cossims)\n",
    "            for i in range(len(self.ft_words)):\n",
    "                a = dot(query, self.ft_model.get_word_vector(self.ft_words[i]))/(norm(query)*norm(self.ft_model.get_word_vector(self.ft_words[i])))\n",
    "                if a < range(minVal, minVal+10):\n",
    "                    minVal = a\n",
    "                    at.append(a, self.ft_words[i])\n",
    "        \n",
    "        norms = np.sqrt((query**2).sum() * (vectors**2).sum(axis=1))\n",
    "        cossims = cossims/norms\n",
    "        result_i = np.argpartition(-cossims, range(n+1))[1:n+1]\n",
    "        return list(zip(result_i, cossims[result_i]))\n",
    "\n",
    "    def nearest_words(self, word, n=15, word_freq=None):\n",
    "        result = self.find_nearest_neighbor(self.ft_model.get_word_vector(word), self.ft_matrix, n=n)\n",
    "        \n",
    "        if word_freq:\n",
    "            return [(self.ft_words[r[0]], r[1]) for r in result if self.word_frequencies[self.ft_words[r[0]]] >= word_freq]\n",
    "        else:\n",
    "            return [(self.ft_words[r[0]], r[1]) for r in result]\n",
    "nn = FastTextNN(model_hosp)\n",
    "nn.nearest_words('yxs', word_freq=15)"
   ]
  },
  {
   "cell_type": "code",
   "execution_count": 7,
   "metadata": {},
   "outputs": [
    {
     "data": {
      "text/plain": [
       "[('some-college', 0.9959443211555481),\n",
       " ('10', 0.8455513715744019),\n",
       " ('bachelors', 0.4885871708393097),\n",
       " ('10th', 0.4875778555870056),\n",
       " ('assoc-acdm', 0.4788847863674164),\n",
       " ('assoc-voc', 0.4679119288921356),\n",
       " ('masters', 0.46051493287086487),\n",
       " ('11th', 0.4583005905151367),\n",
       " ('7th-8th', 0.449377179145813),\n",
       " ('hs-grad', 0.42940622568130493)]"
      ]
     },
     "execution_count": 7,
     "metadata": {},
     "output_type": "execute_result"
    }
   ],
   "source": [
    "model_census.most_similar(\"some-colage\".lower())"
   ]
  },
  {
   "cell_type": "code",
   "execution_count": 8,
   "metadata": {},
   "outputs": [],
   "source": [
    "model_census.save(\"AdultFastText.w2v\")"
   ]
  },
  {
   "cell_type": "code",
   "execution_count": null,
   "metadata": {},
   "outputs": [],
   "source": []
  }
 ],
 "metadata": {
  "kernelspec": {
   "display_name": "Python 3",
   "language": "python",
   "name": "python3"
  },
  "language_info": {
   "codemirror_mode": {
    "name": "ipython",
    "version": 3
   },
   "file_extension": ".py",
   "mimetype": "text/x-python",
   "name": "python",
   "nbconvert_exporter": "python",
   "pygments_lexer": "ipython3",
   "version": "3.6.4"
  },
  "toc": {
   "nav_menu": {},
   "number_sections": true,
   "sideBar": true,
   "skip_h1_title": true,
   "title_cell": "Table of Contents",
   "title_sidebar": "Contents",
   "toc_cell": false,
   "toc_position": {},
   "toc_section_display": true,
   "toc_window_display": false
  }
 },
 "nbformat": 4,
 "nbformat_minor": 2
}
