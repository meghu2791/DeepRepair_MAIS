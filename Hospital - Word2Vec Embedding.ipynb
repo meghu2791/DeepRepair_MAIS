{
 "cells": [
  {
   "cell_type": "code",
   "execution_count": 1,
   "metadata": {},
   "outputs": [],
   "source": [
    "import warnings\n",
    "warnings.filterwarnings('ignore')\n",
    "\n",
    "from gensim.models import Word2Vec\n",
    "import gensim\n",
    "import pandas as pd"
   ]
  },
  {
   "cell_type": "markdown",
   "metadata": {},
   "source": [
    "## Read Data\n",
    "Read the hospital dataset"
   ]
  },
  {
   "cell_type": "code",
   "execution_count": 3,
   "metadata": {},
   "outputs": [],
   "source": [
    "df = pd.read_csv(\"clean_hospital_dataset.csv\",dtype=object, encoding='utf8')\n",
    "df.drop(columns=['label'], axis=1, inplace=True)"
   ]
  },
  {
   "cell_type": "markdown",
   "metadata": {},
   "source": [
    "Drop some columns"
   ]
  },
  {
   "cell_type": "code",
   "execution_count": 4,
   "metadata": {},
   "outputs": [],
   "source": [
    "#df.drop(columns=['City'], axis=1, inplace=True)\n",
    "#df = df.apply(lambda x: x.astype(str).str.lower())"
   ]
  },
  {
   "cell_type": "code",
   "execution_count": 5,
   "metadata": {},
   "outputs": [],
   "source": [
    "#df['ProviderNumber'] = df['ProviderNumber'].apply(lambda x: str(int(float(x))))\n",
    "#df['ZipCode'] = df['ZipCode'].apply(lambda x: str(int(float(x))))\n",
    "#df['PhoneNumber'] = df['PhoneNumber'].apply(lambda x: str(int(float(x))))\n",
    "\n",
    "for i in range(0, 3):\n",
    "    df.append(df)\n",
    "df = df.sample(frac=1).reset_index(drop=True)"
   ]
  },
  {
   "cell_type": "code",
   "execution_count": 6,
   "metadata": {},
   "outputs": [
    {
     "data": {
      "text/html": [
       "<div>\n",
       "<style scoped>\n",
       "    .dataframe tbody tr th:only-of-type {\n",
       "        vertical-align: middle;\n",
       "    }\n",
       "\n",
       "    .dataframe tbody tr th {\n",
       "        vertical-align: top;\n",
       "    }\n",
       "\n",
       "    .dataframe thead th {\n",
       "        text-align: right;\n",
       "    }\n",
       "</style>\n",
       "<table border=\"1\" class=\"dataframe\">\n",
       "  <thead>\n",
       "    <tr style=\"text-align: right;\">\n",
       "      <th></th>\n",
       "      <th>ProviderNumber</th>\n",
       "      <th>HospitalName</th>\n",
       "      <th>Address1</th>\n",
       "      <th>City</th>\n",
       "      <th>State</th>\n",
       "      <th>ZipCode</th>\n",
       "      <th>CountyName</th>\n",
       "      <th>PhoneNumber</th>\n",
       "      <th>HospitalType</th>\n",
       "      <th>HospitalOwner</th>\n",
       "      <th>EmergencyService</th>\n",
       "      <th>Condition</th>\n",
       "      <th>MeasureCode</th>\n",
       "      <th>MeasureName</th>\n",
       "      <th>Score</th>\n",
       "    </tr>\n",
       "  </thead>\n",
       "  <tbody>\n",
       "    <tr>\n",
       "      <th>0</th>\n",
       "      <td>10035</td>\n",
       "      <td>cullman regional medical center</td>\n",
       "      <td>1912 alabama highway 157</td>\n",
       "      <td>cullman</td>\n",
       "      <td>al</td>\n",
       "      <td>35058</td>\n",
       "      <td>cullman</td>\n",
       "      <td>2567372000</td>\n",
       "      <td>acute care hospitals</td>\n",
       "      <td>government - hospital district or authority</td>\n",
       "      <td>yes</td>\n",
       "      <td>heart attack</td>\n",
       "      <td>ami-3</td>\n",
       "      <td>heart attack patients given ace inhibitor or a...</td>\n",
       "      <td>67%</td>\n",
       "    </tr>\n",
       "    <tr>\n",
       "      <th>1</th>\n",
       "      <td>10005</td>\n",
       "      <td>marshall medical center south</td>\n",
       "      <td>2505 u s highway 431 north</td>\n",
       "      <td>boaz</td>\n",
       "      <td>al</td>\n",
       "      <td>35957</td>\n",
       "      <td>marshall</td>\n",
       "      <td>2565938310</td>\n",
       "      <td>acute care hospitals</td>\n",
       "      <td>government - hospital district or authority</td>\n",
       "      <td>yes</td>\n",
       "      <td>surgical infection prevention</td>\n",
       "      <td>scip-vte-2</td>\n",
       "      <td>patients who got treatment  at the right time ...</td>\n",
       "      <td>74%</td>\n",
       "    </tr>\n",
       "    <tr>\n",
       "      <th>2</th>\n",
       "      <td>10035</td>\n",
       "      <td>cullman regional medical center</td>\n",
       "      <td>1912 alabama highway 157</td>\n",
       "      <td>cullman</td>\n",
       "      <td>al</td>\n",
       "      <td>35058</td>\n",
       "      <td>cullman</td>\n",
       "      <td>2567372000</td>\n",
       "      <td>acute care hospitals</td>\n",
       "      <td>government - hospital district or authority</td>\n",
       "      <td>yes</td>\n",
       "      <td>surgical infection prevention</td>\n",
       "      <td>scip-vte-1</td>\n",
       "      <td>surgery patients whose doctors ordered treatme...</td>\n",
       "      <td>95%</td>\n",
       "    </tr>\n",
       "  </tbody>\n",
       "</table>\n",
       "</div>"
      ],
      "text/plain": [
       "  ProviderNumber                     HospitalName                    Address1  \\\n",
       "0          10035  cullman regional medical center    1912 alabama highway 157   \n",
       "1          10005    marshall medical center south  2505 u s highway 431 north   \n",
       "2          10035  cullman regional medical center    1912 alabama highway 157   \n",
       "\n",
       "      City State ZipCode CountyName PhoneNumber          HospitalType  \\\n",
       "0  cullman    al   35058    cullman  2567372000  acute care hospitals   \n",
       "1     boaz    al   35957   marshall  2565938310  acute care hospitals   \n",
       "2  cullman    al   35058    cullman  2567372000  acute care hospitals   \n",
       "\n",
       "                                 HospitalOwner EmergencyService  \\\n",
       "0  government - hospital district or authority              yes   \n",
       "1  government - hospital district or authority              yes   \n",
       "2  government - hospital district or authority              yes   \n",
       "\n",
       "                       Condition MeasureCode  \\\n",
       "0                   heart attack       ami-3   \n",
       "1  surgical infection prevention  scip-vte-2   \n",
       "2  surgical infection prevention  scip-vte-1   \n",
       "\n",
       "                                         MeasureName Score  \n",
       "0  heart attack patients given ace inhibitor or a...   67%  \n",
       "1  patients who got treatment  at the right time ...   74%  \n",
       "2  surgery patients whose doctors ordered treatme...   95%  "
      ]
     },
     "execution_count": 6,
     "metadata": {},
     "output_type": "execute_result"
    }
   ],
   "source": [
    "df.head(3)"
   ]
  },
  {
   "cell_type": "markdown",
   "metadata": {},
   "source": [
    "## Word2Vec Embedding using the Gensim library\n",
    "Details here: https://radimrehurek.com/gensim/"
   ]
  },
  {
   "cell_type": "code",
   "execution_count": 7,
   "metadata": {},
   "outputs": [],
   "source": [
    "dfList = df.values.tolist()"
   ]
  },
  {
   "cell_type": "code",
   "execution_count": 8,
   "metadata": {},
   "outputs": [
    {
     "data": {
      "text/plain": [
       "['10035',\n",
       " 'cullman regional medical center',\n",
       " '1912 alabama highway 157',\n",
       " 'cullman',\n",
       " 'al',\n",
       " '35058',\n",
       " 'cullman',\n",
       " '2567372000',\n",
       " 'acute care hospitals',\n",
       " 'government - hospital district or authority',\n",
       " 'yes',\n",
       " 'heart attack',\n",
       " 'ami-3',\n",
       " 'heart attack patients given ace inhibitor or arb for left ventricular systolic dysfunction (lvsd)',\n",
       " '67%']"
      ]
     },
     "execution_count": 8,
     "metadata": {},
     "output_type": "execute_result"
    }
   ],
   "source": [
    "dfList[0]"
   ]
  },
  {
   "cell_type": "code",
   "execution_count": 9,
   "metadata": {},
   "outputs": [],
   "source": [
    "model = Word2Vec(dfList, sg=1, min_count=1, workers=8, iter=1000, window=len(dfList[0]))"
   ]
  },
  {
   "cell_type": "code",
   "execution_count": 10,
   "metadata": {},
   "outputs": [
    {
     "name": "stdout",
     "output_type": "stream",
     "text": [
      "Word2Vec(vocab=421, size=100, alpha=0.025)\n"
     ]
    }
   ],
   "source": [
    "print(model)"
   ]
  },
  {
   "cell_type": "code",
   "execution_count": 11,
   "metadata": {},
   "outputs": [
    {
     "data": {
      "text/plain": [
       "[('acute care hospitals', 0.3881596624851227),\n",
       " ('100%', 0.23909729719161987),\n",
       " ('heart attack', 0.2362196445465088),\n",
       " ('surgical infection prevention', 0.20020535588264465),\n",
       " ('empty', 0.19985315203666687),\n",
       " ('ami-8a', 0.19450917840003967),\n",
       " ('yes', 0.19275355339050293),\n",
       " ('ami-7a', 0.19034187495708466),\n",
       " ('heart attack patients given smoking cessation advice/counseling',\n",
       "  0.18727602064609528),\n",
       " ('ami-5', 0.186934232711792)]"
      ]
     },
     "execution_count": 11,
     "metadata": {},
     "output_type": "execute_result"
    }
   ],
   "source": [
    "model.most_similar(\"al\")"
   ]
  },
  {
   "cell_type": "code",
   "execution_count": 12,
   "metadata": {},
   "outputs": [],
   "source": [
    "model.save(\"HospitalWord2Vec.w2v\")"
   ]
  },
  {
   "cell_type": "code",
   "execution_count": null,
   "metadata": {},
   "outputs": [],
   "source": []
  }
 ],
 "metadata": {
  "kernelspec": {
   "display_name": "Python 3",
   "language": "python",
   "name": "python3"
  },
  "language_info": {
   "codemirror_mode": {
    "name": "ipython",
    "version": 3
   },
   "file_extension": ".py",
   "mimetype": "text/x-python",
   "name": "python",
   "nbconvert_exporter": "python",
   "pygments_lexer": "ipython3",
   "version": "3.6.4"
  },
  "toc": {
   "nav_menu": {},
   "number_sections": true,
   "sideBar": true,
   "skip_h1_title": false,
   "title_cell": "Table of Contents",
   "title_sidebar": "Contents",
   "toc_cell": false,
   "toc_position": {},
   "toc_section_display": true,
   "toc_window_display": false
  }
 },
 "nbformat": 4,
 "nbformat_minor": 2
}
