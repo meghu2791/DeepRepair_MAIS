{
 "cells": [
  {
   "cell_type": "code",
   "execution_count": 1,
   "metadata": {},
   "outputs": [],
   "source": [
    "import warnings\n",
    "warnings.filterwarnings('ignore')\n",
    "\n",
    "from gensim.models import Word2Vec\n",
    "import gensim\n",
    "import pandas as pd"
   ]
  },
  {
   "cell_type": "markdown",
   "metadata": {},
   "source": [
    "## Read Data\n",
    "Read the hospital dataset"
   ]
  },
  {
   "cell_type": "code",
   "execution_count": 2,
   "metadata": {},
   "outputs": [],
   "source": [
    "#df = pd.read_csv(\"truthvalue.csv\",dtype=object, encoding='utf8')"
   ]
  },
  {
   "cell_type": "code",
   "execution_count": 3,
   "metadata": {},
   "outputs": [],
   "source": [
    "df = pd.read_csv('adult.csv', dtype=object, encoding='utf8', index_col=0)"
   ]
  },
  {
   "cell_type": "markdown",
   "metadata": {},
   "source": [
    "Drop some columns"
   ]
  },
  {
   "cell_type": "code",
   "execution_count": 4,
   "metadata": {},
   "outputs": [],
   "source": [
    "#df.drop(columns=['City'], axis=1, inplace=True)\n",
    "df = df.apply(lambda x: x.astype(str).str.lower())"
   ]
  },
  {
   "cell_type": "code",
   "execution_count": 5,
   "metadata": {},
   "outputs": [],
   "source": [
    "#df['Birthday'] = df['Birthday'].apply(lambda x: str(int(float(x))))\n",
    "#df['Number'] = df['Number'].apply(lambda x: str(int(float(x))))\n",
    "#df['PhoneNumber'] = df['PhoneNumber'].apply(lambda x: str(int(float(x))))\n",
    "\n",
    "#for i in range(0, 3):\n",
    "#    df.append(df)\n",
    "df = df.sample(frac=1).reset_index(drop=True)"
   ]
  },
  {
   "cell_type": "code",
   "execution_count": 6,
   "metadata": {},
   "outputs": [
    {
     "data": {
      "text/html": [
       "<div>\n",
       "<style scoped>\n",
       "    .dataframe tbody tr th:only-of-type {\n",
       "        vertical-align: middle;\n",
       "    }\n",
       "\n",
       "    .dataframe tbody tr th {\n",
       "        vertical-align: top;\n",
       "    }\n",
       "\n",
       "    .dataframe thead th {\n",
       "        text-align: right;\n",
       "    }\n",
       "</style>\n",
       "<table border=\"1\" class=\"dataframe\">\n",
       "  <thead>\n",
       "    <tr style=\"text-align: right;\">\n",
       "      <th></th>\n",
       "      <th>age</th>\n",
       "      <th>workclass</th>\n",
       "      <th>fnlwgt</th>\n",
       "      <th>education</th>\n",
       "      <th>educationnum</th>\n",
       "      <th>maritalstatus</th>\n",
       "      <th>occupation</th>\n",
       "      <th>relationship</th>\n",
       "      <th>race</th>\n",
       "      <th>sex</th>\n",
       "      <th>capitalgain</th>\n",
       "      <th>capitalloss</th>\n",
       "      <th>hoursperweek</th>\n",
       "      <th>nativecountry</th>\n",
       "      <th>income</th>\n",
       "    </tr>\n",
       "  </thead>\n",
       "  <tbody>\n",
       "    <tr>\n",
       "      <th>0</th>\n",
       "      <td>55</td>\n",
       "      <td>private</td>\n",
       "      <td>124137</td>\n",
       "      <td>hs-grad</td>\n",
       "      <td>9</td>\n",
       "      <td>married-spouse-absent</td>\n",
       "      <td>machine-op-inspct</td>\n",
       "      <td>not-in-family</td>\n",
       "      <td>white</td>\n",
       "      <td>male</td>\n",
       "      <td>0</td>\n",
       "      <td>0</td>\n",
       "      <td>40</td>\n",
       "      <td>poland</td>\n",
       "      <td>&lt;=50k</td>\n",
       "    </tr>\n",
       "    <tr>\n",
       "      <th>1</th>\n",
       "      <td>48</td>\n",
       "      <td>private</td>\n",
       "      <td>38950</td>\n",
       "      <td>bachelors</td>\n",
       "      <td>13</td>\n",
       "      <td>married-civ-spouse</td>\n",
       "      <td>exec-managerial</td>\n",
       "      <td>husband</td>\n",
       "      <td>white</td>\n",
       "      <td>male</td>\n",
       "      <td>15024</td>\n",
       "      <td>0</td>\n",
       "      <td>50</td>\n",
       "      <td>united-states</td>\n",
       "      <td>&gt;50k</td>\n",
       "    </tr>\n",
       "    <tr>\n",
       "      <th>2</th>\n",
       "      <td>46</td>\n",
       "      <td>private</td>\n",
       "      <td>174426</td>\n",
       "      <td>some-college</td>\n",
       "      <td>10</td>\n",
       "      <td>married-civ-spouse</td>\n",
       "      <td>machine-op-inspct</td>\n",
       "      <td>husband</td>\n",
       "      <td>white</td>\n",
       "      <td>male</td>\n",
       "      <td>0</td>\n",
       "      <td>0</td>\n",
       "      <td>40</td>\n",
       "      <td>united-states</td>\n",
       "      <td>&lt;=50k</td>\n",
       "    </tr>\n",
       "  </tbody>\n",
       "</table>\n",
       "</div>"
      ],
      "text/plain": [
       "  age workclass  fnlwgt     education educationnum          maritalstatus  \\\n",
       "0  55   private  124137       hs-grad            9  married-spouse-absent   \n",
       "1  48   private   38950     bachelors           13     married-civ-spouse   \n",
       "2  46   private  174426  some-college           10     married-civ-spouse   \n",
       "\n",
       "          occupation   relationship   race   sex capitalgain capitalloss  \\\n",
       "0  machine-op-inspct  not-in-family  white  male           0           0   \n",
       "1    exec-managerial        husband  white  male       15024           0   \n",
       "2  machine-op-inspct        husband  white  male           0           0   \n",
       "\n",
       "  hoursperweek  nativecountry income  \n",
       "0           40         poland  <=50k  \n",
       "1           50  united-states   >50k  \n",
       "2           40  united-states  <=50k  "
      ]
     },
     "execution_count": 6,
     "metadata": {},
     "output_type": "execute_result"
    }
   ],
   "source": [
    "df.head(3)"
   ]
  },
  {
   "cell_type": "markdown",
   "metadata": {},
   "source": [
    "## Word2Vec Embedding using the Gensim library\n",
    "Details here: https://radimrehurek.com/gensim/"
   ]
  },
  {
   "cell_type": "code",
   "execution_count": 7,
   "metadata": {},
   "outputs": [],
   "source": [
    "dfList = df.values.tolist()"
   ]
  },
  {
   "cell_type": "code",
   "execution_count": 8,
   "metadata": {},
   "outputs": [
    {
     "data": {
      "text/plain": [
       "['32',\n",
       " 'private',\n",
       " '167990',\n",
       " 'hs-grad',\n",
       " '9',\n",
       " 'married-civ-spouse',\n",
       " 'exec-managerial',\n",
       " 'husband',\n",
       " 'white',\n",
       " 'male',\n",
       " '0',\n",
       " '0',\n",
       " '40',\n",
       " 'ireland',\n",
       " '<=50k']"
      ]
     },
     "execution_count": 8,
     "metadata": {},
     "output_type": "execute_result"
    }
   ],
   "source": [
    "dfList[5]"
   ]
  },
  {
   "cell_type": "code",
   "execution_count": 9,
   "metadata": {},
   "outputs": [
    {
     "data": {
      "text/plain": [
       "age                 73\n",
       "workclass            9\n",
       "fnlwgt           21648\n",
       "education           16\n",
       "educationnum        16\n",
       "maritalstatus        7\n",
       "occupation          15\n",
       "relationship         6\n",
       "race                 5\n",
       "sex                  2\n",
       "capitalgain        119\n",
       "capitalloss         92\n",
       "hoursperweek        94\n",
       "nativecountry       42\n",
       "income               2\n",
       "dtype: int64"
      ]
     },
     "execution_count": 9,
     "metadata": {},
     "output_type": "execute_result"
    }
   ],
   "source": [
    "df.nunique()"
   ]
  },
  {
   "cell_type": "code",
   "execution_count": 10,
   "metadata": {},
   "outputs": [],
   "source": [
    "#model_1 = Word2Vec(dfList, sg=0, min_count=1, workers=8, iter=1000, window=len(dfList[0]), size=140)"
   ]
  },
  {
   "cell_type": "code",
   "execution_count": 11,
   "metadata": {},
   "outputs": [],
   "source": [
    "model = Word2Vec(dfList, sg=1, min_count=1, workers=8, iter=1000, window=len(dfList[0]))"
   ]
  },
  {
   "cell_type": "code",
   "execution_count": 12,
   "metadata": {},
   "outputs": [
    {
     "data": {
      "text/plain": [
       "[('jamaica', 0.5640259385108948),\n",
       " ('haiti', 0.5500873327255249),\n",
       " ('asian-pac-islander', 0.5107529163360596),\n",
       " ('amer-indian-eskimo', 0.48737379908561707),\n",
       " ('other', 0.4734540283679962),\n",
       " ('2387', 0.4027389883995056),\n",
       " ('dominican-republic', 0.39761799573898315),\n",
       " ('trinadad&tobago', 0.39535537362098694),\n",
       " ('316769', 0.3939740061759949),\n",
       " ('111589', 0.382667601108551),\n",
       " ('132887', 0.3821179270744324),\n",
       " ('188914', 0.37409836053848267),\n",
       " ('194630', 0.37392330169677734),\n",
       " ('125796', 0.36609089374542236),\n",
       " ('204990', 0.365689754486084),\n",
       " ('202642', 0.3535749316215515),\n",
       " ('299765', 0.34710973501205444),\n",
       " ('0', 0.342984139919281),\n",
       " ('244771', 0.3428668677806854),\n",
       " ('outlying-us(guam-usvi-etc)', 0.3370947539806366),\n",
       " ('guatemala', 0.33494606614112854),\n",
       " ('258120', 0.3349103033542633),\n",
       " ('216116', 0.33242878317832947),\n",
       " ('153799', 0.3322758972644806),\n",
       " ('202720', 0.3321252167224884),\n",
       " ('213208', 0.3289077877998352),\n",
       " ('130060', 0.32864370942115784),\n",
       " ('38621', 0.3280017673969269),\n",
       " ('philippines', 0.32769575715065),\n",
       " ('346847', 0.32554367184638977),\n",
       " ('265148', 0.3254815638065338),\n",
       " ('south', 0.3252131938934326),\n",
       " ('252939', 0.3239550292491913),\n",
       " ('82285', 0.32110780477523804),\n",
       " ('94392', 0.3196219801902771),\n",
       " ('275884', 0.3190596401691437),\n",
       " ('237824', 0.31787365674972534),\n",
       " ('140713', 0.31746071577072144),\n",
       " ('271243', 0.317397803068161),\n",
       " ('187538', 0.3164752721786499),\n",
       " ('254547', 0.316301554441452),\n",
       " ('254439', 0.3162858486175537),\n",
       " ('1594', 0.31592968106269836),\n",
       " ('213451', 0.31570789217948914),\n",
       " ('97883', 0.3155853748321533),\n",
       " ('196894', 0.31542330980300903),\n",
       " ('31838', 0.3140937387943268),\n",
       " ('vietnam', 0.31329968571662903),\n",
       " ('151386', 0.31304702162742615),\n",
       " ('ecuador', 0.31295567750930786)]"
      ]
     },
     "execution_count": 12,
     "metadata": {},
     "output_type": "execute_result"
    }
   ],
   "source": [
    "model.wv.most_similar(\"black\", topn=50)"
   ]
  },
  {
   "cell_type": "code",
   "execution_count": 13,
   "metadata": {},
   "outputs": [
    {
     "data": {
      "text/plain": [
       "[('jamaica', 0.5640259385108948),\n",
       " ('haiti', 0.5500873327255249),\n",
       " ('asian-pac-islander', 0.5107529163360596),\n",
       " ('amer-indian-eskimo', 0.48737379908561707),\n",
       " ('other', 0.4734540283679962),\n",
       " ('2387', 0.4027389883995056),\n",
       " ('dominican-republic', 0.39761799573898315),\n",
       " ('trinadad&tobago', 0.39535537362098694),\n",
       " ('316769', 0.3939740061759949),\n",
       " ('111589', 0.382667601108551),\n",
       " ('132887', 0.3821179270744324),\n",
       " ('188914', 0.37409836053848267),\n",
       " ('194630', 0.37392330169677734),\n",
       " ('125796', 0.36609089374542236),\n",
       " ('204990', 0.365689754486084),\n",
       " ('202642', 0.3535749316215515),\n",
       " ('299765', 0.34710973501205444),\n",
       " ('0', 0.342984139919281),\n",
       " ('244771', 0.3428668677806854),\n",
       " ('outlying-us(guam-usvi-etc)', 0.3370947539806366),\n",
       " ('guatemala', 0.33494606614112854),\n",
       " ('258120', 0.3349103033542633),\n",
       " ('216116', 0.33242878317832947),\n",
       " ('153799', 0.3322758972644806),\n",
       " ('202720', 0.3321252167224884),\n",
       " ('213208', 0.3289077877998352),\n",
       " ('130060', 0.32864370942115784),\n",
       " ('38621', 0.3280017673969269),\n",
       " ('philippines', 0.32769575715065),\n",
       " ('346847', 0.32554367184638977),\n",
       " ('265148', 0.3254815638065338),\n",
       " ('south', 0.3252131938934326),\n",
       " ('252939', 0.3239550292491913),\n",
       " ('82285', 0.32110780477523804),\n",
       " ('94392', 0.3196219801902771),\n",
       " ('275884', 0.3190596401691437),\n",
       " ('237824', 0.31787365674972534),\n",
       " ('140713', 0.31746071577072144),\n",
       " ('271243', 0.317397803068161),\n",
       " ('187538', 0.3164752721786499),\n",
       " ('254547', 0.316301554441452),\n",
       " ('254439', 0.3162858486175537),\n",
       " ('1594', 0.31592968106269836),\n",
       " ('213451', 0.31570789217948914),\n",
       " ('97883', 0.3155853748321533),\n",
       " ('196894', 0.31542330980300903),\n",
       " ('31838', 0.3140937387943268),\n",
       " ('vietnam', 0.31329968571662903),\n",
       " ('151386', 0.31304702162742615),\n",
       " ('ecuador', 0.31295567750930786)]"
      ]
     },
     "execution_count": 13,
     "metadata": {},
     "output_type": "execute_result"
    }
   ],
   "source": [
    "model.wv.most_similar(\"black\", topn=50)"
   ]
  },
  {
   "cell_type": "code",
   "execution_count": 14,
   "metadata": {},
   "outputs": [],
   "source": [
    "model.save(\"AdultWord2Vec.w2v\")"
   ]
  },
  {
   "cell_type": "code",
   "execution_count": null,
   "metadata": {},
   "outputs": [],
   "source": []
  }
 ],
 "metadata": {
  "kernelspec": {
   "display_name": "Python 3",
   "language": "python",
   "name": "python3"
  },
  "language_info": {
   "codemirror_mode": {
    "name": "ipython",
    "version": 3
   },
   "file_extension": ".py",
   "mimetype": "text/x-python",
   "name": "python",
   "nbconvert_exporter": "python",
   "pygments_lexer": "ipython3",
   "version": "3.6.4"
  },
  "toc": {
   "nav_menu": {},
   "number_sections": true,
   "sideBar": true,
   "skip_h1_title": false,
   "title_cell": "Table of Contents",
   "title_sidebar": "Contents",
   "toc_cell": false,
   "toc_position": {},
   "toc_section_display": true,
   "toc_window_display": false
  }
 },
 "nbformat": 4,
 "nbformat_minor": 2
}
