{
 "cells": [
  {
   "cell_type": "code",
   "execution_count": 1,
   "metadata": {},
   "outputs": [
    {
     "name": "stderr",
     "output_type": "stream",
     "text": [
      "Using TensorFlow backend.\n"
     ]
    }
   ],
   "source": [
    "import warnings\n",
    "warnings.filterwarnings(\"ignore\")\n",
    "import time\n",
    "import pandas as pd\n",
    "import numpy as np\n",
    "import h5py\n",
    "import pickle\n",
    "from sklearn.model_selection import train_test_split\n",
    "from numpy.random import seed\n",
    "\n",
    "from keras.preprocessing.text import Tokenizer\n",
    "from keras.preprocessing.sequence import pad_sequences\n",
    "from keras import models\n",
    "from keras import layers\n",
    "from keras import optimizers\n",
    "from keras import activations\n",
    "from keras import losses\n",
    "from keras import metrics\n",
    "from keras.utils import to_categorical\n",
    "from keras.models import load_model\n",
    "\n",
    "import matplotlib.pyplot as plt\n",
    "%matplotlib inline"
   ]
  },
  {
   "cell_type": "code",
   "execution_count": 2,
   "metadata": {},
   "outputs": [],
   "source": [
    "seed(44)"
   ]
  },
  {
   "cell_type": "markdown",
   "metadata": {},
   "source": [
    "## Read the data"
   ]
  },
  {
   "cell_type": "code",
   "execution_count": 3,
   "metadata": {},
   "outputs": [],
   "source": [
    "#df = pd.read_csv('train_test_hosp_dataset.csv', encoding='utf8',dtype=object)"
   ]
  },
  {
   "cell_type": "code",
   "execution_count": 4,
   "metadata": {},
   "outputs": [
    {
     "data": {
      "text/plain": [
       "age                                        111\n",
       "class_of_worker                            112\n",
       "education                                  246\n",
       "enroll_in_edu_inst_last_wk                  43\n",
       "marital_stat                                85\n",
       "major_industry_code                        310\n",
       "major_occupation_code                      255\n",
       "race                                        44\n",
       "hispanic_origin                             85\n",
       "sex                                         12\n",
       "member_of_a_labor_union                     21\n",
       "reason_for_unemployment                     44\n",
       "full_or_part_time_employment_stat           22\n",
       "tax_filer_stat                              76\n",
       "region_of_previous_residence                48\n",
       "state_of_previous_residence                184\n",
       "detailed_household_and_family_stat         240\n",
       "detailed_household_summary_in_household    121\n",
       "migration_code_change_in_msa                65\n",
       "migration_code_change_in_reg                81\n",
       "migration_code_move_within_reg              78\n",
       "live_in_this_house_1_year_ago               20\n",
       "migration_prev_res_in_sunbelt               21\n",
       "country_of_birth_father                    163\n",
       "country_of_birth_mother                    155\n",
       "country_of_birth_self                      127\n",
       "citizenship                                 90\n",
       "own_business_or_self_employed                4\n",
       "year                                         3\n",
       "income                                      16\n",
       "label                                        2\n",
       "dtype: int64"
      ]
     },
     "execution_count": 4,
     "metadata": {},
     "output_type": "execute_result"
    }
   ],
   "source": [
    "df = pd.read_csv('census_final_train.csv', encoding='utf8',dtype=object, index_col=False)\n",
    "df.nunique()"
   ]
  },
  {
   "cell_type": "code",
   "execution_count": 5,
   "metadata": {},
   "outputs": [],
   "source": [
    "df = pd.read_csv('census_final_train.csv', encoding='utf8',dtype=object)\n",
    "df = df.sample(frac=1)"
   ]
  },
  {
   "cell_type": "code",
   "execution_count": 6,
   "metadata": {},
   "outputs": [
    {
     "data": {
      "text/html": [
       "<div>\n",
       "<style scoped>\n",
       "    .dataframe tbody tr th:only-of-type {\n",
       "        vertical-align: middle;\n",
       "    }\n",
       "\n",
       "    .dataframe tbody tr th {\n",
       "        vertical-align: top;\n",
       "    }\n",
       "\n",
       "    .dataframe thead th {\n",
       "        text-align: right;\n",
       "    }\n",
       "</style>\n",
       "<table border=\"1\" class=\"dataframe\">\n",
       "  <thead>\n",
       "    <tr style=\"text-align: right;\">\n",
       "      <th></th>\n",
       "      <th>age</th>\n",
       "      <th>class_of_worker</th>\n",
       "      <th>education</th>\n",
       "      <th>enroll_in_edu_inst_last_wk</th>\n",
       "      <th>marital_stat</th>\n",
       "      <th>major_industry_code</th>\n",
       "      <th>major_occupation_code</th>\n",
       "      <th>race</th>\n",
       "      <th>hispanic_origin</th>\n",
       "      <th>sex</th>\n",
       "      <th>...</th>\n",
       "      <th>live_in_this_house_1_year_ago</th>\n",
       "      <th>migration_prev_res_in_sunbelt</th>\n",
       "      <th>country_of_birth_father</th>\n",
       "      <th>country_of_birth_mother</th>\n",
       "      <th>country_of_birth_self</th>\n",
       "      <th>citizenship</th>\n",
       "      <th>own_business_or_self_employed</th>\n",
       "      <th>year</th>\n",
       "      <th>income</th>\n",
       "      <th>label</th>\n",
       "    </tr>\n",
       "  </thead>\n",
       "  <tbody>\n",
       "    <tr>\n",
       "      <th>52999</th>\n",
       "      <td>53</td>\n",
       "      <td>local government</td>\n",
       "      <td>some college but no degree</td>\n",
       "      <td>not in universe</td>\n",
       "      <td>married-civilian spouse present</td>\n",
       "      <td>public administration</td>\n",
       "      <td>protective services</td>\n",
       "      <td>white</td>\n",
       "      <td>all other</td>\n",
       "      <td>male</td>\n",
       "      <td>...</td>\n",
       "      <td>yes</td>\n",
       "      <td>not in universe</td>\n",
       "      <td>united-states</td>\n",
       "      <td>unitex-states</td>\n",
       "      <td>united-states</td>\n",
       "      <td>native- born in the united states</td>\n",
       "      <td>0</td>\n",
       "      <td>94</td>\n",
       "      <td>50000+.</td>\n",
       "      <td>0</td>\n",
       "    </tr>\n",
       "    <tr>\n",
       "      <th>29467</th>\n",
       "      <td>68</td>\n",
       "      <td>not in universe</td>\n",
       "      <td>7th and 8th grade</td>\n",
       "      <td>not in universe</td>\n",
       "      <td>married-civilian spouse present</td>\n",
       "      <td>not in universe or children</td>\n",
       "      <td>not in universe</td>\n",
       "      <td>white</td>\n",
       "      <td>all other</td>\n",
       "      <td>male</td>\n",
       "      <td>...</td>\n",
       "      <td>yes</td>\n",
       "      <td>not in universe</td>\n",
       "      <td>united-states</td>\n",
       "      <td>united-states</td>\n",
       "      <td>united-states</td>\n",
       "      <td>native- born in the united states</td>\n",
       "      <td>0</td>\n",
       "      <td>94</td>\n",
       "      <td>- 50000.</td>\n",
       "      <td>1</td>\n",
       "    </tr>\n",
       "    <tr>\n",
       "      <th>16344</th>\n",
       "      <td>35</td>\n",
       "      <td>private</td>\n",
       "      <td>11th grade</td>\n",
       "      <td>not in universe</td>\n",
       "      <td>married-civxlian spouse present</td>\n",
       "      <td>retail trade</td>\n",
       "      <td>precision production craft &amp; repair</td>\n",
       "      <td>white</td>\n",
       "      <td>all other</td>\n",
       "      <td>male</td>\n",
       "      <td>...</td>\n",
       "      <td>no</td>\n",
       "      <td>yes</td>\n",
       "      <td>united-states</td>\n",
       "      <td>united-states</td>\n",
       "      <td>united-states</td>\n",
       "      <td>native- born in the united states</td>\n",
       "      <td>0</td>\n",
       "      <td>94</td>\n",
       "      <td>- 50000.</td>\n",
       "      <td>0</td>\n",
       "    </tr>\n",
       "    <tr>\n",
       "      <th>72559</th>\n",
       "      <td>5</td>\n",
       "      <td>not in universe</td>\n",
       "      <td>children</td>\n",
       "      <td>not in universe</td>\n",
       "      <td>never married</td>\n",
       "      <td>not in universe or children</td>\n",
       "      <td>not in universe</td>\n",
       "      <td>wxite</td>\n",
       "      <td>all other</td>\n",
       "      <td>male</td>\n",
       "      <td>...</td>\n",
       "      <td>yes</td>\n",
       "      <td>not in universe</td>\n",
       "      <td>united-states</td>\n",
       "      <td>united-states</td>\n",
       "      <td>united-states</td>\n",
       "      <td>native- born in the united states</td>\n",
       "      <td>0</td>\n",
       "      <td>94</td>\n",
       "      <td>- 50000.</td>\n",
       "      <td>0</td>\n",
       "    </tr>\n",
       "    <tr>\n",
       "      <th>57895</th>\n",
       "      <td>42</td>\n",
       "      <td>local government</td>\n",
       "      <td>NaN</td>\n",
       "      <td>not in universe</td>\n",
       "      <td>divorced</td>\n",
       "      <td>education</td>\n",
       "      <td>precision production craft &amp; repair</td>\n",
       "      <td>white</td>\n",
       "      <td>all other</td>\n",
       "      <td>male</td>\n",
       "      <td>...</td>\n",
       "      <td>yes</td>\n",
       "      <td>not in universe</td>\n",
       "      <td>united-states</td>\n",
       "      <td>united-states</td>\n",
       "      <td>united-states</td>\n",
       "      <td>native- born in the united states</td>\n",
       "      <td>0</td>\n",
       "      <td>94</td>\n",
       "      <td>- 50000.</td>\n",
       "      <td>0</td>\n",
       "    </tr>\n",
       "    <tr>\n",
       "      <th>44749</th>\n",
       "      <td>37</td>\n",
       "      <td>private</td>\n",
       "      <td>bachelors degree(ba ab bs)</td>\n",
       "      <td>not in universe</td>\n",
       "      <td>married-civilian spouse present</td>\n",
       "      <td>manufacturing-nondurable goods</td>\n",
       "      <td>executive admin and managerial</td>\n",
       "      <td>white</td>\n",
       "      <td>mexican (mexicano)</td>\n",
       "      <td>male</td>\n",
       "      <td>...</td>\n",
       "      <td>yes</td>\n",
       "      <td>not in universe</td>\n",
       "      <td>mexico</td>\n",
       "      <td>mexico</td>\n",
       "      <td>mexico</td>\n",
       "      <td>foreign born- not a citizen of u s</td>\n",
       "      <td>0</td>\n",
       "      <td>94</td>\n",
       "      <td>- 50000.</td>\n",
       "      <td>1</td>\n",
       "    </tr>\n",
       "    <tr>\n",
       "      <th>13303</th>\n",
       "      <td>27</td>\n",
       "      <td>not in universe</td>\n",
       "      <td>bachelors degree(ba ab bs)</td>\n",
       "      <td>not in universe</td>\n",
       "      <td>married-civilian spouse present</td>\n",
       "      <td>not in universe or children</td>\n",
       "      <td>not in universe</td>\n",
       "      <td>white</td>\n",
       "      <td>all other</td>\n",
       "      <td>female</td>\n",
       "      <td>...</td>\n",
       "      <td>yes</td>\n",
       "      <td>not in universe</td>\n",
       "      <td>united-states</td>\n",
       "      <td>united-states</td>\n",
       "      <td>united-states</td>\n",
       "      <td>native- born in the united states</td>\n",
       "      <td>0</td>\n",
       "      <td>94</td>\n",
       "      <td>- 50000.</td>\n",
       "      <td>1</td>\n",
       "    </tr>\n",
       "    <tr>\n",
       "      <th>72509</th>\n",
       "      <td>60</td>\n",
       "      <td>not in universe</td>\n",
       "      <td>some college but no degree</td>\n",
       "      <td>not in universe</td>\n",
       "      <td>married-civilian spouse present</td>\n",
       "      <td>not in universe or children</td>\n",
       "      <td>not in universe</td>\n",
       "      <td>white</td>\n",
       "      <td>other spanish</td>\n",
       "      <td>male</td>\n",
       "      <td>...</td>\n",
       "      <td>yes</td>\n",
       "      <td>not in universe</td>\n",
       "      <td>mexico</td>\n",
       "      <td>united-states</td>\n",
       "      <td>united-states</td>\n",
       "      <td>native- born in the united states</td>\n",
       "      <td>0</td>\n",
       "      <td>94</td>\n",
       "      <td>- 50000.</td>\n",
       "      <td>1</td>\n",
       "    </tr>\n",
       "    <tr>\n",
       "      <th>40359</th>\n",
       "      <td>0</td>\n",
       "      <td>not in universe</td>\n",
       "      <td>children</td>\n",
       "      <td>not in universe</td>\n",
       "      <td>never married</td>\n",
       "      <td>not in universe or children</td>\n",
       "      <td>not in universe</td>\n",
       "      <td>amer indian aleut or eskimo</td>\n",
       "      <td>all other</td>\n",
       "      <td>female</td>\n",
       "      <td>...</td>\n",
       "      <td>not in universe under 1 year old</td>\n",
       "      <td>not in universe</td>\n",
       "      <td>united-states</td>\n",
       "      <td>united-states</td>\n",
       "      <td>united-states</td>\n",
       "      <td>native- born in the united states</td>\n",
       "      <td>0</td>\n",
       "      <td>94</td>\n",
       "      <td>- 50000.</td>\n",
       "      <td>1</td>\n",
       "    </tr>\n",
       "    <tr>\n",
       "      <th>81232</th>\n",
       "      <td>34</td>\n",
       "      <td>not in universe</td>\n",
       "      <td>high school graduate</td>\n",
       "      <td>not in universe</td>\n",
       "      <td>never married</td>\n",
       "      <td>not in universe or children</td>\n",
       "      <td>not in universe</td>\n",
       "      <td>white</td>\n",
       "      <td>puerto rican</td>\n",
       "      <td>male</td>\n",
       "      <td>...</td>\n",
       "      <td>yes</td>\n",
       "      <td>not in universe</td>\n",
       "      <td>puerto-rico</td>\n",
       "      <td>puerto-rico</td>\n",
       "      <td>united-states</td>\n",
       "      <td>native- born in the united states</td>\n",
       "      <td>0</td>\n",
       "      <td>94</td>\n",
       "      <td>- 50000.</td>\n",
       "      <td>1</td>\n",
       "    </tr>\n",
       "  </tbody>\n",
       "</table>\n",
       "<p>10 rows × 31 columns</p>\n",
       "</div>"
      ],
      "text/plain": [
       "      age    class_of_worker                    education  \\\n",
       "52999  53   local government   some college but no degree   \n",
       "29467  68    not in universe            7th and 8th grade   \n",
       "16344  35            private                   11th grade   \n",
       "72559   5    not in universe                     children   \n",
       "57895  42   local government                          NaN   \n",
       "44749  37            private   bachelors degree(ba ab bs)   \n",
       "13303  27    not in universe   bachelors degree(ba ab bs)   \n",
       "72509  60    not in universe   some college but no degree   \n",
       "40359   0    not in universe                     children   \n",
       "81232  34    not in universe         high school graduate   \n",
       "\n",
       "      enroll_in_edu_inst_last_wk                      marital_stat  \\\n",
       "52999            not in universe   married-civilian spouse present   \n",
       "29467            not in universe   married-civilian spouse present   \n",
       "16344            not in universe   married-civxlian spouse present   \n",
       "72559            not in universe                     never married   \n",
       "57895            not in universe                          divorced   \n",
       "44749            not in universe   married-civilian spouse present   \n",
       "13303            not in universe   married-civilian spouse present   \n",
       "72509            not in universe   married-civilian spouse present   \n",
       "40359            not in universe                     never married   \n",
       "81232            not in universe                     never married   \n",
       "\n",
       "                   major_industry_code                 major_occupation_code  \\\n",
       "52999            public administration                   protective services   \n",
       "29467      not in universe or children                       not in universe   \n",
       "16344                     retail trade   precision production craft & repair   \n",
       "72559      not in universe or children                       not in universe   \n",
       "57895                        education   precision production craft & repair   \n",
       "44749   manufacturing-nondurable goods        executive admin and managerial   \n",
       "13303      not in universe or children                       not in universe   \n",
       "72509      not in universe or children                       not in universe   \n",
       "40359      not in universe or children                       not in universe   \n",
       "81232      not in universe or children                       not in universe   \n",
       "\n",
       "                               race      hispanic_origin      sex  ...   \\\n",
       "52999                         white            all other     male  ...    \n",
       "29467                         white            all other     male  ...    \n",
       "16344                         white            all other     male  ...    \n",
       "72559                         wxite            all other     male  ...    \n",
       "57895                         white            all other     male  ...    \n",
       "44749                         white   mexican (mexicano)     male  ...    \n",
       "13303                         white            all other   female  ...    \n",
       "72509                         white        other spanish     male  ...    \n",
       "40359   amer indian aleut or eskimo            all other   female  ...    \n",
       "81232                         white         puerto rican     male  ...    \n",
       "\n",
       "           live_in_this_house_1_year_ago migration_prev_res_in_sunbelt  \\\n",
       "52999                                yes               not in universe   \n",
       "29467                                yes               not in universe   \n",
       "16344                                 no                           yes   \n",
       "72559                                yes               not in universe   \n",
       "57895                                yes               not in universe   \n",
       "44749                                yes               not in universe   \n",
       "13303                                yes               not in universe   \n",
       "72509                                yes               not in universe   \n",
       "40359   not in universe under 1 year old               not in universe   \n",
       "81232                                yes               not in universe   \n",
       "\n",
       "      country_of_birth_father country_of_birth_mother country_of_birth_self  \\\n",
       "52999           united-states           unitex-states         united-states   \n",
       "29467           united-states           united-states         united-states   \n",
       "16344           united-states           united-states         united-states   \n",
       "72559           united-states           united-states         united-states   \n",
       "57895           united-states           united-states         united-states   \n",
       "44749                  mexico                  mexico                mexico   \n",
       "13303           united-states           united-states         united-states   \n",
       "72509                  mexico           united-states         united-states   \n",
       "40359           united-states           united-states         united-states   \n",
       "81232             puerto-rico             puerto-rico         united-states   \n",
       "\n",
       "                                citizenship own_business_or_self_employed  \\\n",
       "52999     native- born in the united states                             0   \n",
       "29467     native- born in the united states                             0   \n",
       "16344     native- born in the united states                             0   \n",
       "72559     native- born in the united states                             0   \n",
       "57895     native- born in the united states                             0   \n",
       "44749   foreign born- not a citizen of u s                              0   \n",
       "13303     native- born in the united states                             0   \n",
       "72509     native- born in the united states                             0   \n",
       "40359     native- born in the united states                             0   \n",
       "81232     native- born in the united states                             0   \n",
       "\n",
       "      year     income label  \n",
       "52999   94    50000+.     0  \n",
       "29467   94   - 50000.     1  \n",
       "16344   94   - 50000.     0  \n",
       "72559   94   - 50000.     0  \n",
       "57895   94   - 50000.     0  \n",
       "44749   94   - 50000.     1  \n",
       "13303   94   - 50000.     1  \n",
       "72509   94   - 50000.     1  \n",
       "40359   94   - 50000.     1  \n",
       "81232   94   - 50000.     1  \n",
       "\n",
       "[10 rows x 31 columns]"
      ]
     },
     "execution_count": 6,
     "metadata": {},
     "output_type": "execute_result"
    }
   ],
   "source": [
    "df.head(10)"
   ]
  },
  {
   "cell_type": "code",
   "execution_count": 7,
   "metadata": {},
   "outputs": [
    {
     "data": {
      "text/plain": [
       "(93590, 31)"
      ]
     },
     "execution_count": 7,
     "metadata": {},
     "output_type": "execute_result"
    }
   ],
   "source": [
    "df.shape"
   ]
  },
  {
   "cell_type": "code",
   "execution_count": 8,
   "metadata": {},
   "outputs": [
    {
     "data": {
      "text/plain": [
       "0    50444\n",
       "1    43146\n",
       "Name: label, dtype: int64"
      ]
     },
     "execution_count": 8,
     "metadata": {},
     "output_type": "execute_result"
    }
   ],
   "source": [
    "df['label'].value_counts()"
   ]
  },
  {
   "cell_type": "markdown",
   "metadata": {},
   "source": [
    "### Separate the labels from the training data"
   ]
  },
  {
   "cell_type": "code",
   "execution_count": 9,
   "metadata": {},
   "outputs": [],
   "source": [
    "df['label'] = df['label'].apply(lambda x: int(float(x)))\n",
    "labels = np.asarray(df['label'].tolist())"
   ]
  },
  {
   "cell_type": "code",
   "execution_count": 10,
   "metadata": {},
   "outputs": [],
   "source": [
    "df.drop(columns=['label'], axis=1, inplace=True)"
   ]
  },
  {
   "cell_type": "code",
   "execution_count": 11,
   "metadata": {
    "scrolled": true
   },
   "outputs": [
    {
     "data": {
      "text/plain": [
       "(93590, 30)"
      ]
     },
     "execution_count": 11,
     "metadata": {},
     "output_type": "execute_result"
    }
   ],
   "source": [
    "df.shape"
   ]
  },
  {
   "cell_type": "code",
   "execution_count": 12,
   "metadata": {},
   "outputs": [],
   "source": [
    "df = df.apply(lambda x: x.astype(str).str.lower())"
   ]
  },
  {
   "cell_type": "markdown",
   "metadata": {},
   "source": [
    "### Convert each row to a space separated string"
   ]
  },
  {
   "cell_type": "code",
   "execution_count": 13,
   "metadata": {},
   "outputs": [],
   "source": [
    "dfList = df.values.tolist()"
   ]
  },
  {
   "cell_type": "code",
   "execution_count": 14,
   "metadata": {},
   "outputs": [],
   "source": [
    "rows = []\n",
    "for row in dfList:\n",
    "    combined = ':'.join([str(x) for x in row])\n",
    "    rows.append(combined)"
   ]
  },
  {
   "cell_type": "code",
   "execution_count": 15,
   "metadata": {},
   "outputs": [
    {
     "data": {
      "text/plain": [
       "93590"
      ]
     },
     "execution_count": 15,
     "metadata": {},
     "output_type": "execute_result"
    }
   ],
   "source": [
    "len(rows)"
   ]
  },
  {
   "cell_type": "code",
   "execution_count": 16,
   "metadata": {},
   "outputs": [
    {
     "data": {
      "text/plain": [
       "'53: local government: some college but no degree: not in universe: married-civilian spouse present: public administration: protective services: white: all other: male: no: not in universe: children or armed forces: joint both under 65: not in universe: not in universe: householder: householder: nonmover: nonmover: nonmover: yes: not in universe: united-states: unitex-states: united-states: native- born in the united states:0:94: 50000+.'"
      ]
     },
     "execution_count": 16,
     "metadata": {},
     "output_type": "execute_result"
    }
   ],
   "source": [
    "rows[0]"
   ]
  },
  {
   "cell_type": "code",
   "execution_count": 17,
   "metadata": {},
   "outputs": [],
   "source": [
    "testSet= []\n",
    "labels_test = []\n",
    "for i in range(int(0.05*len(rows)), len(rows)):\n",
    "    testSet.append(rows[i])\n",
    "    labels_test.append(labels[i])\n",
    "index = np.arange(len(testSet))"
   ]
  },
  {
   "cell_type": "code",
   "execution_count": 18,
   "metadata": {},
   "outputs": [
    {
     "data": {
      "text/plain": [
       "552"
      ]
     },
     "execution_count": 18,
     "metadata": {},
     "output_type": "execute_result"
    }
   ],
   "source": [
    "max([len(r) for r in rows])"
   ]
  },
  {
   "cell_type": "code",
   "execution_count": 19,
   "metadata": {},
   "outputs": [
    {
     "data": {
      "text/plain": [
       "age                                        112\n",
       "class_of_worker                            113\n",
       "education                                  247\n",
       "enroll_in_edu_inst_last_wk                  44\n",
       "marital_stat                                86\n",
       "major_industry_code                        311\n",
       "major_occupation_code                      256\n",
       "race                                        45\n",
       "hispanic_origin                             86\n",
       "sex                                         13\n",
       "member_of_a_labor_union                     22\n",
       "reason_for_unemployment                     45\n",
       "full_or_part_time_employment_stat           23\n",
       "tax_filer_stat                              77\n",
       "region_of_previous_residence                49\n",
       "state_of_previous_residence                185\n",
       "detailed_household_and_family_stat         241\n",
       "detailed_household_summary_in_household    122\n",
       "migration_code_change_in_msa                66\n",
       "migration_code_change_in_reg                82\n",
       "migration_code_move_within_reg              79\n",
       "live_in_this_house_1_year_ago               21\n",
       "migration_prev_res_in_sunbelt               22\n",
       "country_of_birth_father                    164\n",
       "country_of_birth_mother                    156\n",
       "country_of_birth_self                      128\n",
       "citizenship                                 91\n",
       "own_business_or_self_employed                5\n",
       "year                                         4\n",
       "income                                      17\n",
       "dtype: int64"
      ]
     },
     "execution_count": 19,
     "metadata": {},
     "output_type": "execute_result"
    }
   ],
   "source": [
    "df.nunique()"
   ]
  },
  {
   "cell_type": "code",
   "execution_count": 20,
   "metadata": {},
   "outputs": [
    {
     "data": {
      "text/plain": [
       "2912"
      ]
     },
     "execution_count": 20,
     "metadata": {},
     "output_type": "execute_result"
    }
   ],
   "source": [
    "count = sum(df.nunique())\n",
    "count"
   ]
  },
  {
   "cell_type": "markdown",
   "metadata": {},
   "source": [
    "### Save the dataset"
   ]
  },
  {
   "cell_type": "code",
   "execution_count": 21,
   "metadata": {},
   "outputs": [],
   "source": [
    "df.to_csv(\"CensusTrainingDataMultiAttributes.csv\", encoding='utf8', index=False)"
   ]
  },
  {
   "cell_type": "markdown",
   "metadata": {},
   "source": [
    "## Tokenize the data"
   ]
  },
  {
   "cell_type": "markdown",
   "metadata": {},
   "source": [
    "Since the max length of a row is 190, we can set the maxSequenceLength as 200"
   ]
  },
  {
   "cell_type": "code",
   "execution_count": 22,
   "metadata": {},
   "outputs": [],
   "source": [
    "start_train = time.time()"
   ]
  },
  {
   "cell_type": "code",
   "execution_count": 23,
   "metadata": {},
   "outputs": [],
   "source": [
    "maxSequenceLength = max([len(r) for r in rows])\n",
    "maxWords = 2 * count"
   ]
  },
  {
   "cell_type": "code",
   "execution_count": 24,
   "metadata": {},
   "outputs": [],
   "source": [
    "tokenizer = Tokenizer(num_words=maxWords, split=':')\n",
    "tokenizer.fit_on_texts(rows)\n",
    "sequences = tokenizer.texts_to_sequences(rows)\n",
    "word_index = tokenizer.word_index"
   ]
  },
  {
   "cell_type": "code",
   "execution_count": 25,
   "metadata": {},
   "outputs": [
    {
     "data": {
      "text/plain": [
       "2400"
      ]
     },
     "execution_count": 25,
     "metadata": {},
     "output_type": "execute_result"
    }
   ],
   "source": [
    "len(word_index)"
   ]
  },
  {
   "cell_type": "code",
   "execution_count": 26,
   "metadata": {},
   "outputs": [],
   "source": [
    "data = pad_sequences(sequences, maxlen=maxSequenceLength)"
   ]
  },
  {
   "cell_type": "code",
   "execution_count": 27,
   "metadata": {},
   "outputs": [
    {
     "data": {
      "text/plain": [
       "(93590, 552)"
      ]
     },
     "execution_count": 27,
     "metadata": {},
     "output_type": "execute_result"
    }
   ],
   "source": [
    "data.shape"
   ]
  },
  {
   "cell_type": "code",
   "execution_count": 28,
   "metadata": {},
   "outputs": [
    {
     "data": {
      "text/plain": [
       "(93590,)"
      ]
     },
     "execution_count": 28,
     "metadata": {},
     "output_type": "execute_result"
    }
   ],
   "source": [
    "labels.shape"
   ]
  },
  {
   "cell_type": "markdown",
   "metadata": {},
   "source": [
    "## Train test split"
   ]
  },
  {
   "cell_type": "markdown",
   "metadata": {},
   "source": [
    "### Shuffle the data"
   ]
  },
  {
   "cell_type": "code",
   "execution_count": 29,
   "metadata": {},
   "outputs": [],
   "source": [
    "indices = np.arange(data.shape[0])\n",
    "#np.random.shuffle(indices)"
   ]
  },
  {
   "cell_type": "code",
   "execution_count": 30,
   "metadata": {},
   "outputs": [],
   "source": [
    "data = data[indices]\n",
    "labels = labels[indices]"
   ]
  },
  {
   "cell_type": "code",
   "execution_count": 31,
   "metadata": {},
   "outputs": [],
   "source": [
    "X_train, X_test, y_train, y_test = train_test_split(data, labels, test_size=0.95, shuffle=False)"
   ]
  },
  {
   "cell_type": "code",
   "execution_count": 32,
   "metadata": {},
   "outputs": [
    {
     "data": {
      "text/plain": [
       "(4679, 4679)"
      ]
     },
     "execution_count": 32,
     "metadata": {},
     "output_type": "execute_result"
    }
   ],
   "source": [
    "len(X_train), len(y_train)"
   ]
  },
  {
   "cell_type": "code",
   "execution_count": 33,
   "metadata": {},
   "outputs": [
    {
     "data": {
      "text/plain": [
       "(88911, 88911)"
      ]
     },
     "execution_count": 33,
     "metadata": {},
     "output_type": "execute_result"
    }
   ],
   "source": [
    "len(X_test), len(y_test)"
   ]
  },
  {
   "cell_type": "markdown",
   "metadata": {},
   "source": [
    "## Model\n",
    "**Architecture**\n",
    "* 1 Embedding layer\n",
    "* 1 Bidirectional LSTM layer\n",
    "* 1 output layer, _sigmoid_ activation\n",
    "* Optimizer: Adam (learning rate = 0.01)\n",
    "* Loss function: Binary crossentropy loss"
   ]
  },
  {
   "cell_type": "code",
   "execution_count": 34,
   "metadata": {},
   "outputs": [],
   "source": [
    "embeddingDim = 100"
   ]
  },
  {
   "cell_type": "code",
   "execution_count": 35,
   "metadata": {},
   "outputs": [],
   "source": [
    "model = models.Sequential()\n",
    "model.add(layers.Embedding(maxWords, embeddingDim, input_length=maxSequenceLength))\n",
    "model.add(layers.Bidirectional(layers.GRU(64)))\n",
    "model.add(layers.BatchNormalization())\n",
    "model.add(layers.Dense(1, activation=activations.sigmoid))\n",
    "model.compile(optimizer=optimizers.RMSprop(lr=0.01), loss=losses.binary_crossentropy, metrics=[metrics.binary_accuracy])"
   ]
  },
  {
   "cell_type": "code",
   "execution_count": 36,
   "metadata": {},
   "outputs": [
    {
     "name": "stdout",
     "output_type": "stream",
     "text": [
      "_________________________________________________________________\n",
      "Layer (type)                 Output Shape              Param #   \n",
      "=================================================================\n",
      "embedding_1 (Embedding)      (None, 552, 100)          582400    \n",
      "_________________________________________________________________\n",
      "bidirectional_1 (Bidirection (None, 128)               63360     \n",
      "_________________________________________________________________\n",
      "batch_normalization_1 (Batch (None, 128)               512       \n",
      "_________________________________________________________________\n",
      "dense_1 (Dense)              (None, 1)                 129       \n",
      "=================================================================\n",
      "Total params: 646,401\n",
      "Trainable params: 646,145\n",
      "Non-trainable params: 256\n",
      "_________________________________________________________________\n"
     ]
    }
   ],
   "source": [
    "model.summary()"
   ]
  },
  {
   "cell_type": "code",
   "execution_count": 37,
   "metadata": {},
   "outputs": [
    {
     "name": "stdout",
     "output_type": "stream",
     "text": [
      "Train on 3743 samples, validate on 936 samples\n",
      "Epoch 1/8\n",
      "3743/3743 [==============================] - 58s 16ms/step - loss: 0.5850 - binary_accuracy: 0.6452 - val_loss: 0.3843 - val_binary_accuracy: 0.8323\n",
      "Epoch 2/8\n",
      "3743/3743 [==============================] - 55s 15ms/step - loss: 0.2103 - binary_accuracy: 0.9196 - val_loss: 0.2690 - val_binary_accuracy: 0.9124\n",
      "Epoch 3/8\n",
      "3743/3743 [==============================] - 56s 15ms/step - loss: 0.0470 - binary_accuracy: 0.9872 - val_loss: 0.1105 - val_binary_accuracy: 0.9498\n",
      "Epoch 4/8\n",
      "3743/3743 [==============================] - 56s 15ms/step - loss: 0.0300 - binary_accuracy: 0.9923 - val_loss: 0.0877 - val_binary_accuracy: 0.9882\n",
      "Epoch 5/8\n",
      "3743/3743 [==============================] - 57s 15ms/step - loss: 0.0453 - binary_accuracy: 0.9866 - val_loss: 0.6407 - val_binary_accuracy: 0.9038\n",
      "Epoch 6/8\n",
      "3743/3743 [==============================] - 58s 15ms/step - loss: 0.0364 - binary_accuracy: 0.9925 - val_loss: 0.3679 - val_binary_accuracy: 0.9167\n",
      "Epoch 7/8\n",
      "3743/3743 [==============================] - 58s 15ms/step - loss: 0.0203 - binary_accuracy: 0.9957 - val_loss: 0.2970 - val_binary_accuracy: 0.9252\n",
      "Epoch 8/8\n",
      "3743/3743 [==============================] - 58s 16ms/step - loss: 0.0123 - binary_accuracy: 0.9973 - val_loss: 0.9671 - val_binary_accuracy: 0.9209\n"
     ]
    }
   ],
   "source": [
    "history = model.fit(X_train, y_train,\n",
    "                    epochs=8,\n",
    "                    batch_size=32, \n",
    "                    validation_split=0.2)"
   ]
  },
  {
   "cell_type": "code",
   "execution_count": 38,
   "metadata": {},
   "outputs": [
    {
     "data": {
      "image/png": "[encoded data removed]",
      "text/plain": [
       "<matplotlib.figure.Figure at 0x1a50766a58>"
      ]
     },
     "metadata": {},
     "output_type": "display_data"
    },
    {
     "data": {
      "image/png": "[encoded data removed]",
      "text/plain": [
       "<matplotlib.figure.Figure at 0x1a52c30160>"
      ]
     },
     "metadata": {},
     "output_type": "display_data"
    }
   ],
   "source": [
    "acc = history.history['binary_accuracy']\n",
    "val_acc = history.history['val_binary_accuracy']\n",
    "\n",
    "loss = history.history['loss']\n",
    "val_loss = history.history['val_loss']\n",
    "\n",
    "epochs = range(1, len(acc) + 1)\n",
    "plt.plot(epochs, acc, 'bo', label='Training acc')\n",
    "plt.plot(epochs, val_acc, 'b', label='Validation acc')\n",
    "plt.title('Training and validation accuracy')\n",
    "plt.xlabel(\"Epochs\")\n",
    "plt.ylabel(\"Accuracy\")\n",
    "plt.legend()\n",
    "\n",
    "plt.figure()\n",
    "\n",
    "plt.plot(epochs, loss, 'bo', label='Training loss')\n",
    "plt.plot(epochs, val_loss, 'b', label='Validation loss')\n",
    "plt.title('Training and validation loss')\n",
    "plt.xlabel(\"Epochs\")\n",
    "plt.ylabel(\"Loss\")\n",
    "plt.legend()\n",
    "plt.show();"
   ]
  },
  {
   "cell_type": "code",
   "execution_count": 39,
   "metadata": {},
   "outputs": [
    {
     "name": "stdout",
     "output_type": "stream",
     "text": [
      "466.56267189979553\n"
     ]
    }
   ],
   "source": [
    "stop_train = time.time()\n",
    "print(stop_train-start_train)"
   ]
  },
  {
   "cell_type": "markdown",
   "metadata": {},
   "source": [
    "## Evaluation on test set"
   ]
  },
  {
   "cell_type": "code",
   "execution_count": 40,
   "metadata": {},
   "outputs": [
    {
     "name": "stdout",
     "output_type": "stream",
     "text": [
      "88911/88911 [==============================] - 281s 3ms/step\n"
     ]
    }
   ],
   "source": [
    "results = model.evaluate(X_test, y_test)"
   ]
  },
  {
   "cell_type": "code",
   "execution_count": 41,
   "metadata": {},
   "outputs": [],
   "source": [
    "loss = results[0]\n",
    "accuracy = results[1]"
   ]
  },
  {
   "cell_type": "code",
   "execution_count": 42,
   "metadata": {},
   "outputs": [
    {
     "data": {
      "text/plain": [
       "0.7296675489763678"
      ]
     },
     "execution_count": 42,
     "metadata": {},
     "output_type": "execute_result"
    }
   ],
   "source": [
    "loss"
   ]
  },
  {
   "cell_type": "code",
   "execution_count": 43,
   "metadata": {},
   "outputs": [
    {
     "data": {
      "text/plain": [
       "0.9357559806998009"
      ]
     },
     "execution_count": 43,
     "metadata": {},
     "output_type": "execute_result"
    }
   ],
   "source": [
    "accuracy"
   ]
  },
  {
   "cell_type": "markdown",
   "metadata": {},
   "source": [
    "## Save the model and tokenizer"
   ]
  },
  {
   "cell_type": "code",
   "execution_count": 44,
   "metadata": {},
   "outputs": [],
   "source": [
    "model.save(\"CensusErrorDetectionMultiAttributeClassifier.h5\")"
   ]
  },
  {
   "cell_type": "code",
   "execution_count": 45,
   "metadata": {},
   "outputs": [],
   "source": [
    "with open('CensusErrorDetectionMultiAttributeTokenizer.pickle', 'wb') as handle:\n",
    "    pickle.dump(tokenizer, handle, protocol=pickle.HIGHEST_PROTOCOL, fix_imports=True)"
   ]
  },
  {
   "cell_type": "markdown",
   "metadata": {},
   "source": [
    "## Run model on the entire dataset"
   ]
  },
  {
   "cell_type": "code",
   "execution_count": 46,
   "metadata": {},
   "outputs": [],
   "source": [
    "start_test = time.time()"
   ]
  },
  {
   "cell_type": "code",
   "execution_count": 47,
   "metadata": {},
   "outputs": [],
   "source": [
    "model = load_model('CensusErrorDetectionMultiAttributeClassifier.h5')"
   ]
  },
  {
   "cell_type": "code",
   "execution_count": 48,
   "metadata": {},
   "outputs": [],
   "source": [
    "with open('CensusErrorDetectionMultiAttributeTokenizer.pickle', 'rb') as handle:\n",
    "    tokenizer = pickle.load(handle)"
   ]
  },
  {
   "cell_type": "code",
   "execution_count": 49,
   "metadata": {},
   "outputs": [],
   "source": [
    "def classifyTuples(model, tokenizer, value):\n",
    "    value = [value]\n",
    "    sequences = tokenizer.texts_to_sequences(value)\n",
    "    testData = pad_sequences(sequences, maxlen=maxSequenceLength)#maxlen=maxSequenceLength)\n",
    "    predictions = model.predict(testData)\n",
    "    return int(predictions[0] >= 0.5)"
   ]
  },
  {
   "cell_type": "code",
   "execution_count": 50,
   "metadata": {},
   "outputs": [],
   "source": [
    "ourLabels = []\n",
    "\n",
    "#for row in rows:\n",
    "#    label = classifyTuples(model, tokenizer, row)\n",
    "#    ourLabels.append(row + ':' + str(label))\n",
    "for row in testSet:\n",
    "    label = classifyTuples(model, tokenizer, row)\n",
    "    ourLabels.append(row + ':' + str(label))"
   ]
  },
  {
   "cell_type": "code",
   "execution_count": 51,
   "metadata": {},
   "outputs": [
    {
     "data": {
      "text/plain": [
       "88911"
      ]
     },
     "execution_count": 51,
     "metadata": {},
     "output_type": "execute_result"
    }
   ],
   "source": [
    "len(ourLabels)"
   ]
  },
  {
   "cell_type": "code",
   "execution_count": 52,
   "metadata": {},
   "outputs": [],
   "source": [
    "with open('CensusDatasetPredictions.pkl', 'wb') as f:\n",
    "    pickle.dump(ourLabels, f)"
   ]
  },
  {
   "cell_type": "code",
   "execution_count": 53,
   "metadata": {},
   "outputs": [],
   "source": [
    "ourLabels = np.asarray(ourLabels)\n",
    "ourLabels = ourLabels[index]"
   ]
  },
  {
   "cell_type": "markdown",
   "metadata": {},
   "source": [
    "## Get only the faulty tuples"
   ]
  },
  {
   "cell_type": "code",
   "execution_count": 54,
   "metadata": {
    "inputHidden": false,
    "outputHidden": false
   },
   "outputs": [],
   "source": [
    "with open('CensusDatasetPredictions.pkl', 'rb') as f:\n",
    "    ourLabels = pickle.load(f)"
   ]
  },
  {
   "cell_type": "code",
   "execution_count": 55,
   "metadata": {},
   "outputs": [],
   "source": [
    "errors_test = [row for row in ourLabels if row[-1] == '0']"
   ]
  },
  {
   "cell_type": "code",
   "execution_count": 56,
   "metadata": {},
   "outputs": [
    {
     "data": {
      "text/plain": [
       "42788"
      ]
     },
     "execution_count": 56,
     "metadata": {},
     "output_type": "execute_result"
    }
   ],
   "source": [
    "len(errors_test)"
   ]
  },
  {
   "cell_type": "code",
   "execution_count": 57,
   "metadata": {},
   "outputs": [],
   "source": [
    "with open('CensusDatasetErrors.pkl', 'wb') as f:\n",
    "    pickle.dump(errors_test, f)"
   ]
  },
  {
   "cell_type": "markdown",
   "metadata": {},
   "source": [
    "### Convert pickle to dataframe"
   ]
  },
  {
   "cell_type": "code",
   "execution_count": 58,
   "metadata": {
    "inputHidden": false,
    "outputHidden": false
   },
   "outputs": [],
   "source": [
    "values = [row.split(':') for row in errors_test]"
   ]
  },
  {
   "cell_type": "code",
   "execution_count": 60,
   "metadata": {},
   "outputs": [],
   "source": [
    "headers = df.columns.tolist()\n",
    "headers.append('label')"
   ]
  },
  {
   "cell_type": "code",
   "execution_count": 61,
   "metadata": {
    "inputHidden": false,
    "outputHidden": false
   },
   "outputs": [],
   "source": [
    "df = pd.DataFrame(values, columns=headers)"
   ]
  },
  {
   "cell_type": "code",
   "execution_count": 62,
   "metadata": {
    "inputHidden": false,
    "outputHidden": false
   },
   "outputs": [],
   "source": [
    "df.to_csv('CensusErrors.csv',encoding='utf8',index=False)"
   ]
  },
  {
   "cell_type": "markdown",
   "metadata": {
    "inputHidden": false,
    "outputHidden": false
   },
   "source": [
    "## Metrics"
   ]
  },
  {
   "cell_type": "code",
   "execution_count": 64,
   "metadata": {},
   "outputs": [
    {
     "name": "stdout",
     "output_type": "stream",
     "text": [
      "             precision    recall  f1-score   support\n",
      "\n",
      "          0       0.99      0.89      0.94     47896\n",
      "          1       0.88      0.99      0.93     41015\n",
      "\n",
      "avg / total       0.94      0.94      0.94     88911\n",
      "\n"
     ]
    }
   ],
   "source": [
    "from sklearn.metrics import classification_report\n",
    "\n",
    "y_pred = []\n",
    "for i in ourLabels:\n",
    "    y_pred.append(int(i.split(':')[-1]))\n",
    "print(classification_report(labels_test, y_pred))"
   ]
  },
  {
   "cell_type": "code",
   "execution_count": 65,
   "metadata": {},
   "outputs": [
    {
     "name": "stdout",
     "output_type": "stream",
     "text": [
      "4408.640347003937\n"
     ]
    }
   ],
   "source": [
    "print(\"Runtime:\" + str(time.time()-start_test))"
   ]
  },
  {
   "cell_type": "code",
   "execution_count": null,
   "metadata": {},
   "outputs": [],
   "source": []
  }
 ],
 "metadata": {
  "kernel_info": {
   "name": "python3"
  },
  "kernelspec": {
   "display_name": "Python 3",
   "language": "python",
   "name": "python3"
  },
  "language_info": {
   "codemirror_mode": {
    "name": "ipython",
    "version": 3
   },
   "file_extension": ".py",
   "mimetype": "text/x-python",
   "name": "python",
   "nbconvert_exporter": "python",
   "pygments_lexer": "ipython3",
   "version": "3.6.4"
  },
  "nteract": {
   "version": "0.8.4"
  },
  "toc": {
   "nav_menu": {},
   "number_sections": true,
   "sideBar": true,
   "skip_h1_title": true,
   "title_cell": "Table of Contents",
   "title_sidebar": "Contents",
   "toc_cell": false,
   "toc_position": {},
   "toc_section_display": true,
   "toc_window_display": false
  }
 },
 "nbformat": 4,
 "nbformat_minor": 2
}
