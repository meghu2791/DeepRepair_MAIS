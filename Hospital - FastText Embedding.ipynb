{
 "cells": [
  {
   "cell_type": "markdown",
   "metadata": {},
   "source": [
    "# Record Embedding"
   ]
  },
  {
   "cell_type": "code",
   "execution_count": 1,
   "metadata": {},
   "outputs": [],
   "source": [
    "import pandas as pd\n",
    "import numpy as np\n",
    "import os\n",
    "import calendar\n",
    "from sklearn.manifold import TSNE\n",
    "import matplotlib.pyplot as plt\n",
    "%matplotlib inline"
   ]
  },
  {
   "cell_type": "markdown",
   "metadata": {},
   "source": [
    "## Embedding using fastText\n",
    "Details here: https://fasttext.cc/"
   ]
  },
  {
   "cell_type": "code",
   "execution_count": 2,
   "metadata": {},
   "outputs": [],
   "source": [
    "import warnings\n",
    "warnings.filterwarnings('ignore')\n",
    "import fastText\n",
    "from fastText import train_unsupervised\n",
    "import gensim\n",
    "from gensim.models import FastText"
   ]
  },
  {
   "cell_type": "markdown",
   "metadata": {},
   "source": [
    "Convert each tuple into a row"
   ]
  },
  {
   "cell_type": "code",
   "execution_count": 3,
   "metadata": {},
   "outputs": [
    {
     "data": {
      "text/html": [
       "<div>\n",
       "<style scoped>\n",
       "    .dataframe tbody tr th:only-of-type {\n",
       "        vertical-align: middle;\n",
       "    }\n",
       "\n",
       "    .dataframe tbody tr th {\n",
       "        vertical-align: top;\n",
       "    }\n",
       "\n",
       "    .dataframe thead th {\n",
       "        text-align: right;\n",
       "    }\n",
       "</style>\n",
       "<table border=\"1\" class=\"dataframe\">\n",
       "  <thead>\n",
       "    <tr style=\"text-align: right;\">\n",
       "      <th></th>\n",
       "      <th>ProviderNumber</th>\n",
       "      <th>HospitalName</th>\n",
       "      <th>Address1</th>\n",
       "      <th>City</th>\n",
       "      <th>State</th>\n",
       "      <th>ZipCode</th>\n",
       "      <th>CountyName</th>\n",
       "      <th>PhoneNumber</th>\n",
       "      <th>HospitalType</th>\n",
       "      <th>HospitalOwner</th>\n",
       "      <th>EmergencyService</th>\n",
       "      <th>Condition</th>\n",
       "      <th>MeasureCode</th>\n",
       "      <th>MeasureName</th>\n",
       "      <th>Score</th>\n",
       "    </tr>\n",
       "  </thead>\n",
       "  <tbody>\n",
       "    <tr>\n",
       "      <th>0</th>\n",
       "      <td>10027</td>\n",
       "      <td>elba general hospital</td>\n",
       "      <td>987 drayton street</td>\n",
       "      <td>elba</td>\n",
       "      <td>al</td>\n",
       "      <td>36323</td>\n",
       "      <td>coffee</td>\n",
       "      <td>3348972257</td>\n",
       "      <td>acute care hospitals</td>\n",
       "      <td>voluntary non-profit - other</td>\n",
       "      <td>yes</td>\n",
       "      <td>heart attack</td>\n",
       "      <td>ami-3</td>\n",
       "      <td>heart attack patients given ace inhibitor or a...</td>\n",
       "      <td>empty</td>\n",
       "    </tr>\n",
       "    <tr>\n",
       "      <th>1</th>\n",
       "      <td>10039</td>\n",
       "      <td>huntsville hospital</td>\n",
       "      <td>101 sivley rd</td>\n",
       "      <td>huntsville</td>\n",
       "      <td>al</td>\n",
       "      <td>35801</td>\n",
       "      <td>madison</td>\n",
       "      <td>2562651000</td>\n",
       "      <td>acute care hospitals</td>\n",
       "      <td>government - hospital district or authority</td>\n",
       "      <td>yes</td>\n",
       "      <td>heart failure</td>\n",
       "      <td>hf-3</td>\n",
       "      <td>heart failure patients given ace inhibitor or ...</td>\n",
       "      <td>98%</td>\n",
       "    </tr>\n",
       "    <tr>\n",
       "      <th>2</th>\n",
       "      <td>10009</td>\n",
       "      <td>hartselle medical center</td>\n",
       "      <td>201 pine street northwest</td>\n",
       "      <td>hartselle</td>\n",
       "      <td>al</td>\n",
       "      <td>35640</td>\n",
       "      <td>morgan</td>\n",
       "      <td>2567736511</td>\n",
       "      <td>acute care hospitals</td>\n",
       "      <td>proprietary</td>\n",
       "      <td>yes</td>\n",
       "      <td>heart failure</td>\n",
       "      <td>hf-4</td>\n",
       "      <td>heart failure patients given smoking cessation...</td>\n",
       "      <td>100%</td>\n",
       "    </tr>\n",
       "  </tbody>\n",
       "</table>\n",
       "</div>"
      ],
      "text/plain": [
       "  ProviderNumber              HospitalName                   Address1  \\\n",
       "0          10027     elba general hospital         987 drayton street   \n",
       "1          10039       huntsville hospital              101 sivley rd   \n",
       "2          10009  hartselle medical center  201 pine street northwest   \n",
       "\n",
       "         City State ZipCode CountyName PhoneNumber          HospitalType  \\\n",
       "0        elba    al   36323     coffee  3348972257  acute care hospitals   \n",
       "1  huntsville    al   35801    madison  2562651000  acute care hospitals   \n",
       "2   hartselle    al   35640     morgan  2567736511  acute care hospitals   \n",
       "\n",
       "                                 HospitalOwner EmergencyService  \\\n",
       "0                 voluntary non-profit - other              yes   \n",
       "1  government - hospital district or authority              yes   \n",
       "2                                  proprietary              yes   \n",
       "\n",
       "       Condition MeasureCode  \\\n",
       "0   heart attack       ami-3   \n",
       "1  heart failure        hf-3   \n",
       "2  heart failure        hf-4   \n",
       "\n",
       "                                         MeasureName  Score  \n",
       "0  heart attack patients given ace inhibitor or a...  empty  \n",
       "1  heart failure patients given ace inhibitor or ...    98%  \n",
       "2  heart failure patients given smoking cessation...   100%  "
      ]
     },
     "execution_count": 3,
     "metadata": {},
     "output_type": "execute_result"
    }
   ],
   "source": [
    "\n",
    "#df = pd.read_csv('truth_values_1100_tuples.csv',dtype=object, encoding='utf8')\n",
    "df = pd.read_csv(\"clean_hospital_dataset_hc.csv\",dtype=object, encoding='utf8')\n",
    "for i in range(0, 3):\n",
    "    df.append(df)\n",
    "\n",
    "df = df.sample(frac=1).reset_index(drop=True)\n",
    "df.head(3)"
   ]
  },
  {
   "cell_type": "code",
   "execution_count": 4,
   "metadata": {},
   "outputs": [],
   "source": [
    "#training the model with truth data.\n",
    "import tempfile\n",
    "data = []\n",
    "dfList = df.values.tolist()\n",
    "for line in dfList:\n",
    "    line = [l.lower() for l in line]\n",
    "    data.append(line)\n",
    "\n",
    "with tempfile.NamedTemporaryFile(delete=False) as tmpf:\n",
    "            for line in dfList:\n",
    "                line = [l.lower() for l in line]\n",
    "                tmpf.write(\"{}\\n\".format(line).encode())\n",
    "            tmpf.flush()"
   ]
  },
  {
   "cell_type": "code",
   "execution_count": null,
   "metadata": {},
   "outputs": [],
   "source": [
    "#model_hosp = train_unsupervised(input=tmpf.name, model='skipgram', ws=df.shape[1])"
   ]
  },
  {
   "cell_type": "code",
   "execution_count": null,
   "metadata": {},
   "outputs": [],
   "source": [
    "model_hosp1 = FastText(data, min_count=1, workers=8, iter=1000, window=df.shape[1], sg=1, word_ngrams=1)"
   ]
  },
  {
   "cell_type": "markdown",
   "metadata": {},
   "source": [
    "from numpy import dot\n",
    "from numpy.linalg import norm\n",
    "\n",
    "class FastTextNN:\n",
    "    def __init__(self, ft_model, ft_matrix=None):\n",
    "        self.ft_model = ft_model        \n",
    "        self.ft_words = ft_model.get_words()\n",
    "        #print(self.ft_words)\n",
    "        self.word_frequencies = dict(zip(*ft_model.get_words(include_freq=True)))\n",
    "        #print(self.word_frequencies)\n",
    "        self.ft_matrix = ft_matrix\n",
    "        if self.ft_matrix is None:\n",
    "            self.ft_matrix = np.empty((len(self.ft_words), ft_model.get_dimension()))\n",
    "            for i, word in enumerate(self.ft_words):\n",
    "                self.ft_matrix[i,:] = ft_model.get_word_vector(word)\n",
    "                \n",
    "    def find_nearest_neighbor(self, query, vectors, n=10,  cossims=None):\n",
    "        \"\"\"\n",
    "        query is a 1d numpy array corresponding to the vector to which you want to\n",
    "        find the closest vector\n",
    "        vectors is a 2d numpy array corresponding to the vectors you want to consider\n",
    "\n",
    "        cossims is a 1d numpy array of size len(vectors), which can be passed for efficiency\n",
    "        returns the index of the closest n matches to query within vectors and the cosine similarity (cosine the angle between the vectors)\n",
    "\n",
    "        \"\"\"\n",
    "        at = []\n",
    "        if cossims is None:\n",
    "            minVal = 32\n",
    "            #print(vectors.shape)\n",
    "            cossims = np.matmul(vectors, query, out=cossims)\n",
    "            for i in range(len(self.ft_words)):\n",
    "                a = dot(query, self.ft_model.get_word_vector(self.ft_words[i]))/(norm(query)*norm(self.ft_model.get_word_vector(self.ft_words[i])))\n",
    "                if a < range(minVal, minVal+10):\n",
    "                    minVal = a\n",
    "                    at.append(a, self.ft_words[i])\n",
    "        \n",
    "        norms = np.sqrt((query**2).sum() * (vectors**2).sum(axis=1))\n",
    "        cossims = cossims/norms\n",
    "        result_i = np.argpartition(-cossims, range(n+1))[1:n+1]\n",
    "        return list(zip(result_i, cossims[result_i]))\n",
    "\n",
    "    def nearest_words(self, word, n=15, word_freq=None):\n",
    "        result = self.find_nearest_neighbor(self.ft_model.get_word_vector(word), self.ft_matrix, n=n)\n",
    "        \n",
    "        if word_freq:\n",
    "            return [(self.ft_words[r[0]], r[1]) for r in result if self.word_frequencies[self.ft_words[r[0]]] >= word_freq]\n",
    "        else:\n",
    "            return [(self.ft_words[r[0]], r[1]) for r in result]\n",
    "nn = FastTextNN(model_hosp)\n",
    "nn.nearest_words('yxs', word_freq=15)"
   ]
  },
  {
   "cell_type": "code",
   "execution_count": null,
   "metadata": {},
   "outputs": [],
   "source": [
    "model_hosp.get_word_vector(\"yas\")"
   ]
  },
  {
   "cell_type": "code",
   "execution_count": null,
   "metadata": {},
   "outputs": [],
   "source": [
    "model_hosp1.most_similar(\"a\")"
   ]
  },
  {
   "cell_type": "code",
   "execution_count": null,
   "metadata": {},
   "outputs": [],
   "source": [
    "model_hosp1.save(\"HospitalFastText.w2v\")"
   ]
  },
  {
   "cell_type": "code",
   "execution_count": null,
   "metadata": {},
   "outputs": [],
   "source": []
  }
 ],
 "metadata": {
  "kernelspec": {
   "display_name": "Python 3",
   "language": "python",
   "name": "python3"
  },
  "language_info": {
   "codemirror_mode": {
    "name": "ipython",
    "version": 3
   },
   "file_extension": ".py",
   "mimetype": "text/x-python",
   "name": "python",
   "nbconvert_exporter": "python",
   "pygments_lexer": "ipython3",
   "version": "3.6.4"
  },
  "toc": {
   "nav_menu": {},
   "number_sections": true,
   "sideBar": true,
   "skip_h1_title": true,
   "title_cell": "Table of Contents",
   "title_sidebar": "Contents",
   "toc_cell": false,
   "toc_position": {},
   "toc_section_display": true,
   "toc_window_display": false
  }
 },
 "nbformat": 4,
 "nbformat_minor": 2
}
