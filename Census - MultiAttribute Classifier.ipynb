{
 "cells": [
  {
   "cell_type": "markdown",
   "metadata": {},
   "source": [
    "Here, we create a multiclass classifier for classifying the various closest vectors returned by the model, as the corresponding attributes."
   ]
  },
  {
   "cell_type": "code",
   "execution_count": 171,
   "metadata": {},
   "outputs": [],
   "source": [
    "import warnings\n",
    "warnings.filterwarnings('ignore')\n",
    "\n",
    "from gensim.models.wrappers import FastText\n",
    "from gensim.models import Word2Vec\n",
    "from gensim.models import KeyedVectors\n",
    "\n",
    "import pandas as pd\n",
    "import numpy as np\n",
    "import h5py\n",
    "import pickle\n",
    "from sklearn.model_selection import train_test_split\n",
    "from sklearn.preprocessing import LabelEncoder\n",
    "\n",
    "from keras.preprocessing import sequence\n",
    "from keras import models\n",
    "from keras import layers\n",
    "from keras import activations\n",
    "from keras import optimizers\n",
    "from keras import losses\n",
    "from keras import metrics\n",
    "from keras.preprocessing.text import Tokenizer\n",
    "from keras.preprocessing.sequence import pad_sequences\n",
    "from keras.utils import to_categorical\n",
    "import keras.preprocessing.text\n",
    "from keras.models import load_model\n",
    "from keras.utils import np_utils\n",
    "\n",
    "import matplotlib.pyplot as plt\n",
    "%matplotlib inline"
   ]
  },
  {
   "cell_type": "markdown",
   "metadata": {},
   "source": [
    "## Prepare Dataset"
   ]
  },
  {
   "cell_type": "code",
   "execution_count": 172,
   "metadata": {},
   "outputs": [],
   "source": [
    "#df = pd.read_csv('truthvalue.csv', encoding='utf8', dtype=object)"
   ]
  },
  {
   "cell_type": "code",
   "execution_count": 173,
   "metadata": {},
   "outputs": [],
   "source": [
    "df = pd.read_csv('CensusTrainingDataMultiAttributes.csv', encoding='utf8', dtype=object)"
   ]
  },
  {
   "cell_type": "code",
   "execution_count": 174,
   "metadata": {},
   "outputs": [
    {
     "data": {
      "text/plain": [
       "(93590, 41)"
      ]
     },
     "execution_count": 174,
     "metadata": {},
     "output_type": "execute_result"
    }
   ],
   "source": [
    "df.shape"
   ]
  },
  {
   "cell_type": "code",
   "execution_count": 175,
   "metadata": {},
   "outputs": [],
   "source": [
    "#df = df.drop(columns=['City', 'State'])\n",
    "#df = df.drop(columns=['label'])\n",
    "df.replace(np.nan,'empty',inplace = True)\n",
    "#df.rename(columns={'City.1': 'City'}, inplace=True)\n",
    "#df.replace(np.nan,'empty',inplace = True)"
   ]
  },
  {
   "cell_type": "code",
   "execution_count": 176,
   "metadata": {},
   "outputs": [
    {
     "data": {
      "text/plain": [
       "array(['age', 'class_of_worker', 'detailed_industry_recode',\n",
       "       'detailed_occupation_recode', 'education', 'wage_per_hour',\n",
       "       'enroll_in_edu_inst_last_wk', 'marital_stat',\n",
       "       'major_industry_code', 'major_occupation_code', 'race',\n",
       "       'hispanic_origin', 'sex', 'member_of_a_labor_union',\n",
       "       'reason_for_unemployment', 'full_or_part_time_employment_stat',\n",
       "       'capital_gains', 'capital_losses', 'dividends_from_stocks',\n",
       "       'tax_filer_stat', 'region_of_previous_residence',\n",
       "       'state_of_previous_residence',\n",
       "       'detailed_household_and_family_stat',\n",
       "       'detailed_household_summary_in_household', 'instance_weight',\n",
       "       'migration_code-change_in_msa', 'migration_code-change_in_reg',\n",
       "       'migration_code-move_within_reg', 'live_in_this_house_1_year_ago',\n",
       "       'migration_prev_res_in_sunbelt', 'num_persons_worked_for_employer',\n",
       "       'family_members_under_18', 'country_of_birth_father',\n",
       "       'country_of_birth_mother', 'country_of_birth_self', 'citizenship',\n",
       "       'own_business_or_self_employed', 'veterans_benefits',\n",
       "       'weeks_worked_in_year', 'year', 'income'], dtype=object)"
      ]
     },
     "execution_count": 176,
     "metadata": {},
     "output_type": "execute_result"
    }
   ],
   "source": [
    "df.columns.values"
   ]
  },
  {
   "cell_type": "markdown",
   "metadata": {},
   "source": [
    "## Data Cleaning"
   ]
  },
  {
   "cell_type": "code",
   "execution_count": 177,
   "metadata": {},
   "outputs": [],
   "source": [
    "#df['ProviderNumber'] = df['ProviderNumber'].apply(lambda x: str(int(float(x))))\n",
    "#df['ZipCode'] = df['ZipCode'].apply(lambda x: str(int(float(x))))\n",
    "#df['PhoneNumber'] = df['PhoneNumber'].apply(lambda x: str(int(float(x))))"
   ]
  },
  {
   "cell_type": "code",
   "execution_count": 178,
   "metadata": {},
   "outputs": [
    {
     "data": {
      "text/html": [
       "<div>\n",
       "<style scoped>\n",
       "    .dataframe tbody tr th:only-of-type {\n",
       "        vertical-align: middle;\n",
       "    }\n",
       "\n",
       "    .dataframe tbody tr th {\n",
       "        vertical-align: top;\n",
       "    }\n",
       "\n",
       "    .dataframe thead th {\n",
       "        text-align: right;\n",
       "    }\n",
       "</style>\n",
       "<table border=\"1\" class=\"dataframe\">\n",
       "  <thead>\n",
       "    <tr style=\"text-align: right;\">\n",
       "      <th></th>\n",
       "      <th>age</th>\n",
       "      <th>class_of_worker</th>\n",
       "      <th>detailed_industry_recode</th>\n",
       "      <th>detailed_occupation_recode</th>\n",
       "      <th>education</th>\n",
       "      <th>wage_per_hour</th>\n",
       "      <th>enroll_in_edu_inst_last_wk</th>\n",
       "      <th>marital_stat</th>\n",
       "      <th>major_industry_code</th>\n",
       "      <th>major_occupation_code</th>\n",
       "      <th>...</th>\n",
       "      <th>family_members_under_18</th>\n",
       "      <th>country_of_birth_father</th>\n",
       "      <th>country_of_birth_mother</th>\n",
       "      <th>country_of_birth_self</th>\n",
       "      <th>citizenship</th>\n",
       "      <th>own_business_or_self_employed</th>\n",
       "      <th>veterans_benefits</th>\n",
       "      <th>weeks_worked_in_year</th>\n",
       "      <th>year</th>\n",
       "      <th>income</th>\n",
       "    </tr>\n",
       "  </thead>\n",
       "  <tbody>\n",
       "    <tr>\n",
       "      <th>0</th>\n",
       "      <td>53</td>\n",
       "      <td>local government</td>\n",
       "      <td>47</td>\n",
       "      <td>28</td>\n",
       "      <td>some college but no degree</td>\n",
       "      <td>2100</td>\n",
       "      <td>not in universe</td>\n",
       "      <td>married-civilian spouse present</td>\n",
       "      <td>public administration</td>\n",
       "      <td>protective services</td>\n",
       "      <td>...</td>\n",
       "      <td>not in universe</td>\n",
       "      <td>united-states</td>\n",
       "      <td>united-states</td>\n",
       "      <td>united-states</td>\n",
       "      <td>native- born in the united states</td>\n",
       "      <td>0</td>\n",
       "      <td>2</td>\n",
       "      <td>52</td>\n",
       "      <td>94</td>\n",
       "      <td>50000+.</td>\n",
       "    </tr>\n",
       "    <tr>\n",
       "      <th>1</th>\n",
       "      <td>68</td>\n",
       "      <td>not in universe</td>\n",
       "      <td>0</td>\n",
       "      <td>0</td>\n",
       "      <td>7th and 8th grade</td>\n",
       "      <td>0</td>\n",
       "      <td>not in universe</td>\n",
       "      <td>married-civilian spouse present</td>\n",
       "      <td>not in universe or children</td>\n",
       "      <td>not in universe</td>\n",
       "      <td>...</td>\n",
       "      <td>not in universe</td>\n",
       "      <td>united-states</td>\n",
       "      <td>united-states</td>\n",
       "      <td>united-states</td>\n",
       "      <td>native- born in the united states</td>\n",
       "      <td>0</td>\n",
       "      <td>2</td>\n",
       "      <td>0</td>\n",
       "      <td>94</td>\n",
       "      <td>- 50000.</td>\n",
       "    </tr>\n",
       "  </tbody>\n",
       "</table>\n",
       "<p>2 rows × 41 columns</p>\n",
       "</div>"
      ],
      "text/plain": [
       "  age    class_of_worker detailed_industry_recode detailed_occupation_recode  \\\n",
       "0  53   local government                       47                         28   \n",
       "1  68    not in universe                        0                          0   \n",
       "\n",
       "                     education wage_per_hour enroll_in_edu_inst_last_wk  \\\n",
       "0   some college but no degree          2100            not in universe   \n",
       "1            7th and 8th grade             0            not in universe   \n",
       "\n",
       "                       marital_stat           major_industry_code  \\\n",
       "0   married-civilian spouse present         public administration   \n",
       "1   married-civilian spouse present   not in universe or children   \n",
       "\n",
       "  major_occupation_code    ...     family_members_under_18  \\\n",
       "0   protective services    ...             not in universe   \n",
       "1       not in universe    ...             not in universe   \n",
       "\n",
       "  country_of_birth_father country_of_birth_mother country_of_birth_self  \\\n",
       "0           united-states           united-states         united-states   \n",
       "1           united-states           united-states         united-states   \n",
       "\n",
       "                          citizenship own_business_or_self_employed  \\\n",
       "0   native- born in the united states                             0   \n",
       "1   native- born in the united states                             0   \n",
       "\n",
       "  veterans_benefits weeks_worked_in_year year     income  \n",
       "0                 2                   52   94    50000+.  \n",
       "1                 2                    0   94   - 50000.  \n",
       "\n",
       "[2 rows x 41 columns]"
      ]
     },
     "execution_count": 178,
     "metadata": {},
     "output_type": "execute_result"
    }
   ],
   "source": [
    "df.head(2)"
   ]
  },
  {
   "cell_type": "code",
   "execution_count": 179,
   "metadata": {},
   "outputs": [
    {
     "data": {
      "text/plain": [
       "(93590, 41)"
      ]
     },
     "execution_count": 179,
     "metadata": {},
     "output_type": "execute_result"
    }
   ],
   "source": [
    "df.shape"
   ]
  },
  {
   "cell_type": "code",
   "execution_count": 180,
   "metadata": {},
   "outputs": [],
   "source": [
    "values = []\n",
    "for i in df.columns:\n",
    "    values.append(df[i].tolist())"
   ]
  },
  {
   "cell_type": "code",
   "execution_count": 181,
   "metadata": {},
   "outputs": [],
   "source": [
    "attributes = df.columns.tolist()"
   ]
  },
  {
   "cell_type": "markdown",
   "metadata": {},
   "source": [
    "Create value, attribute-name tuple pairs"
   ]
  },
  {
   "cell_type": "code",
   "execution_count": 182,
   "metadata": {},
   "outputs": [],
   "source": [
    "data = []\n",
    "for i in range(len(values)):\n",
    "    for value in values[i]:\n",
    "        data.append([value.lower(), attributes[i]])"
   ]
  },
  {
   "cell_type": "code",
   "execution_count": 183,
   "metadata": {},
   "outputs": [
    {
     "data": {
      "text/plain": [
       "3837190"
      ]
     },
     "execution_count": 183,
     "metadata": {},
     "output_type": "execute_result"
    }
   ],
   "source": [
    "len(data)"
   ]
  },
  {
   "cell_type": "code",
   "execution_count": 184,
   "metadata": {},
   "outputs": [
    {
     "data": {
      "text/plain": [
       "[['53', 'age'],\n",
       " ['68', 'age'],\n",
       " ['x5', 'age'],\n",
       " ['5', 'age'],\n",
       " ['42', 'age'],\n",
       " ['37', 'age'],\n",
       " ['27', 'age'],\n",
       " ['60', 'age'],\n",
       " ['0', 'age'],\n",
       " ['34', 'age']]"
      ]
     },
     "execution_count": 184,
     "metadata": {},
     "output_type": "execute_result"
    }
   ],
   "source": [
    "data[:10]"
   ]
  },
  {
   "cell_type": "code",
   "execution_count": 185,
   "metadata": {},
   "outputs": [
    {
     "data": {
      "text/plain": [
       "[[' - 50000.', 'income'],\n",
       " [' - 50000.', 'income'],\n",
       " [' - 50000.', 'income'],\n",
       " [' - 50000.', 'income'],\n",
       " [' - 50000.', 'income'],\n",
       " [' - 50000.', 'income'],\n",
       " [' - 50000.', 'income'],\n",
       " [' - 50000.', 'income'],\n",
       " [' 50000+.', 'income'],\n",
       " [' - 50000.', 'income']]"
      ]
     },
     "execution_count": 185,
     "metadata": {},
     "output_type": "execute_result"
    }
   ],
   "source": [
    "data[-10:]"
   ]
  },
  {
   "cell_type": "code",
   "execution_count": 186,
   "metadata": {},
   "outputs": [],
   "source": [
    "dfData = pd.DataFrame(data, columns=['Value','Label'])"
   ]
  },
  {
   "cell_type": "code",
   "execution_count": 187,
   "metadata": {},
   "outputs": [
    {
     "data": {
      "text/html": [
       "<div>\n",
       "<style scoped>\n",
       "    .dataframe tbody tr th:only-of-type {\n",
       "        vertical-align: middle;\n",
       "    }\n",
       "\n",
       "    .dataframe tbody tr th {\n",
       "        vertical-align: top;\n",
       "    }\n",
       "\n",
       "    .dataframe thead th {\n",
       "        text-align: right;\n",
       "    }\n",
       "</style>\n",
       "<table border=\"1\" class=\"dataframe\">\n",
       "  <thead>\n",
       "    <tr style=\"text-align: right;\">\n",
       "      <th></th>\n",
       "      <th>Value</th>\n",
       "      <th>Label</th>\n",
       "    </tr>\n",
       "  </thead>\n",
       "  <tbody>\n",
       "    <tr>\n",
       "      <th>0</th>\n",
       "      <td>53</td>\n",
       "      <td>age</td>\n",
       "    </tr>\n",
       "    <tr>\n",
       "      <th>1</th>\n",
       "      <td>68</td>\n",
       "      <td>age</td>\n",
       "    </tr>\n",
       "  </tbody>\n",
       "</table>\n",
       "</div>"
      ],
      "text/plain": [
       "  Value Label\n",
       "0    53   age\n",
       "1    68   age"
      ]
     },
     "execution_count": 187,
     "metadata": {},
     "output_type": "execute_result"
    }
   ],
   "source": [
    "dfData.head(2)"
   ]
  },
  {
   "cell_type": "code",
   "execution_count": 188,
   "metadata": {},
   "outputs": [
    {
     "data": {
      "text/html": [
       "<div>\n",
       "<style scoped>\n",
       "    .dataframe tbody tr th:only-of-type {\n",
       "        vertical-align: middle;\n",
       "    }\n",
       "\n",
       "    .dataframe tbody tr th {\n",
       "        vertical-align: top;\n",
       "    }\n",
       "\n",
       "    .dataframe thead th {\n",
       "        text-align: right;\n",
       "    }\n",
       "</style>\n",
       "<table border=\"1\" class=\"dataframe\">\n",
       "  <thead>\n",
       "    <tr style=\"text-align: right;\">\n",
       "      <th></th>\n",
       "      <th>Value</th>\n",
       "      <th>Label</th>\n",
       "    </tr>\n",
       "  </thead>\n",
       "  <tbody>\n",
       "    <tr>\n",
       "      <th>3837185</th>\n",
       "      <td>- 50000.</td>\n",
       "      <td>income</td>\n",
       "    </tr>\n",
       "    <tr>\n",
       "      <th>3837186</th>\n",
       "      <td>- 50000.</td>\n",
       "      <td>income</td>\n",
       "    </tr>\n",
       "    <tr>\n",
       "      <th>3837187</th>\n",
       "      <td>- 50000.</td>\n",
       "      <td>income</td>\n",
       "    </tr>\n",
       "    <tr>\n",
       "      <th>3837188</th>\n",
       "      <td>50000+.</td>\n",
       "      <td>income</td>\n",
       "    </tr>\n",
       "    <tr>\n",
       "      <th>3837189</th>\n",
       "      <td>- 50000.</td>\n",
       "      <td>income</td>\n",
       "    </tr>\n",
       "  </tbody>\n",
       "</table>\n",
       "</div>"
      ],
      "text/plain": [
       "             Value   Label\n",
       "3837185   - 50000.  income\n",
       "3837186   - 50000.  income\n",
       "3837187   - 50000.  income\n",
       "3837188    50000+.  income\n",
       "3837189   - 50000.  income"
      ]
     },
     "execution_count": 188,
     "metadata": {},
     "output_type": "execute_result"
    }
   ],
   "source": [
    "dfData.tail()"
   ]
  },
  {
   "cell_type": "markdown",
   "metadata": {},
   "source": [
    "Convert labels to categorical attributes"
   ]
  },
  {
   "cell_type": "code",
   "execution_count": 189,
   "metadata": {},
   "outputs": [],
   "source": [
    "dfData['Label'] = dfData['Label'].astype('category')"
   ]
  },
  {
   "cell_type": "code",
   "execution_count": 190,
   "metadata": {},
   "outputs": [],
   "source": [
    "dfData[\"Label_Cat\"] = dfData[\"Label\"].cat.codes"
   ]
  },
  {
   "cell_type": "code",
   "execution_count": 191,
   "metadata": {},
   "outputs": [
    {
     "data": {
      "text/html": [
       "<div>\n",
       "<style scoped>\n",
       "    .dataframe tbody tr th:only-of-type {\n",
       "        vertical-align: middle;\n",
       "    }\n",
       "\n",
       "    .dataframe tbody tr th {\n",
       "        vertical-align: top;\n",
       "    }\n",
       "\n",
       "    .dataframe thead th {\n",
       "        text-align: right;\n",
       "    }\n",
       "</style>\n",
       "<table border=\"1\" class=\"dataframe\">\n",
       "  <thead>\n",
       "    <tr style=\"text-align: right;\">\n",
       "      <th></th>\n",
       "      <th>Value</th>\n",
       "      <th>Label</th>\n",
       "      <th>Label_Cat</th>\n",
       "    </tr>\n",
       "  </thead>\n",
       "  <tbody>\n",
       "    <tr>\n",
       "      <th>3837185</th>\n",
       "      <td>- 50000.</td>\n",
       "      <td>income</td>\n",
       "      <td>18</td>\n",
       "    </tr>\n",
       "    <tr>\n",
       "      <th>3837186</th>\n",
       "      <td>- 50000.</td>\n",
       "      <td>income</td>\n",
       "      <td>18</td>\n",
       "    </tr>\n",
       "    <tr>\n",
       "      <th>3837187</th>\n",
       "      <td>- 50000.</td>\n",
       "      <td>income</td>\n",
       "      <td>18</td>\n",
       "    </tr>\n",
       "    <tr>\n",
       "      <th>3837188</th>\n",
       "      <td>50000+.</td>\n",
       "      <td>income</td>\n",
       "      <td>18</td>\n",
       "    </tr>\n",
       "    <tr>\n",
       "      <th>3837189</th>\n",
       "      <td>- 50000.</td>\n",
       "      <td>income</td>\n",
       "      <td>18</td>\n",
       "    </tr>\n",
       "  </tbody>\n",
       "</table>\n",
       "</div>"
      ],
      "text/plain": [
       "             Value   Label  Label_Cat\n",
       "3837185   - 50000.  income         18\n",
       "3837186   - 50000.  income         18\n",
       "3837187   - 50000.  income         18\n",
       "3837188    50000+.  income         18\n",
       "3837189   - 50000.  income         18"
      ]
     },
     "execution_count": 191,
     "metadata": {},
     "output_type": "execute_result"
    }
   ],
   "source": [
    "dfData.tail()"
   ]
  },
  {
   "cell_type": "code",
   "execution_count": 192,
   "metadata": {},
   "outputs": [
    {
     "data": {
      "text/plain": [
       "40    93590\n",
       "19    93590\n",
       "17    93590\n",
       "16    93590\n",
       "15    93590\n",
       "14    93590\n",
       "13    93590\n",
       "12    93590\n",
       "11    93590\n",
       "10    93590\n",
       "9     93590\n",
       "8     93590\n",
       "7     93590\n",
       "6     93590\n",
       "5     93590\n",
       "4     93590\n",
       "3     93590\n",
       "2     93590\n",
       "1     93590\n",
       "18    93590\n",
       "20    93590\n",
       "39    93590\n",
       "21    93590\n",
       "38    93590\n",
       "37    93590\n",
       "36    93590\n",
       "35    93590\n",
       "34    93590\n",
       "33    93590\n",
       "32    93590\n",
       "31    93590\n",
       "30    93590\n",
       "29    93590\n",
       "28    93590\n",
       "27    93590\n",
       "26    93590\n",
       "25    93590\n",
       "24    93590\n",
       "23    93590\n",
       "22    93590\n",
       "0     93590\n",
       "Name: Label_Cat, dtype: int64"
      ]
     },
     "execution_count": 192,
     "metadata": {},
     "output_type": "execute_result"
    }
   ],
   "source": [
    "dfData['Label_Cat'].value_counts()"
   ]
  },
  {
   "cell_type": "markdown",
   "metadata": {},
   "source": [
    "Get the mapping"
   ]
  },
  {
   "cell_type": "code",
   "execution_count": 193,
   "metadata": {},
   "outputs": [],
   "source": [
    "mapping = dict(enumerate(dfData['Label'].cat.categories))"
   ]
  },
  {
   "cell_type": "code",
   "execution_count": 194,
   "metadata": {},
   "outputs": [
    {
     "data": {
      "text/plain": [
       "{0: 'age',\n",
       " 1: 'capital_gains',\n",
       " 2: 'capital_losses',\n",
       " 3: 'citizenship',\n",
       " 4: 'class_of_worker',\n",
       " 5: 'country_of_birth_father',\n",
       " 6: 'country_of_birth_mother',\n",
       " 7: 'country_of_birth_self',\n",
       " 8: 'detailed_household_and_family_stat',\n",
       " 9: 'detailed_household_summary_in_household',\n",
       " 10: 'detailed_industry_recode',\n",
       " 11: 'detailed_occupation_recode',\n",
       " 12: 'dividends_from_stocks',\n",
       " 13: 'education',\n",
       " 14: 'enroll_in_edu_inst_last_wk',\n",
       " 15: 'family_members_under_18',\n",
       " 16: 'full_or_part_time_employment_stat',\n",
       " 17: 'hispanic_origin',\n",
       " 18: 'income',\n",
       " 19: 'instance_weight',\n",
       " 20: 'live_in_this_house_1_year_ago',\n",
       " 21: 'major_industry_code',\n",
       " 22: 'major_occupation_code',\n",
       " 23: 'marital_stat',\n",
       " 24: 'member_of_a_labor_union',\n",
       " 25: 'migration_code-change_in_msa',\n",
       " 26: 'migration_code-change_in_reg',\n",
       " 27: 'migration_code-move_within_reg',\n",
       " 28: 'migration_prev_res_in_sunbelt',\n",
       " 29: 'num_persons_worked_for_employer',\n",
       " 30: 'own_business_or_self_employed',\n",
       " 31: 'race',\n",
       " 32: 'reason_for_unemployment',\n",
       " 33: 'region_of_previous_residence',\n",
       " 34: 'sex',\n",
       " 35: 'state_of_previous_residence',\n",
       " 36: 'tax_filer_stat',\n",
       " 37: 'veterans_benefits',\n",
       " 38: 'wage_per_hour',\n",
       " 39: 'weeks_worked_in_year',\n",
       " 40: 'year'}"
      ]
     },
     "execution_count": 194,
     "metadata": {},
     "output_type": "execute_result"
    }
   ],
   "source": [
    "mapping"
   ]
  },
  {
   "cell_type": "markdown",
   "metadata": {},
   "source": [
    "Drop the Label column"
   ]
  },
  {
   "cell_type": "code",
   "execution_count": 195,
   "metadata": {},
   "outputs": [],
   "source": [
    "dfData.drop(['Label'], axis=1, inplace=True)"
   ]
  },
  {
   "cell_type": "code",
   "execution_count": 196,
   "metadata": {
    "scrolled": true
   },
   "outputs": [
    {
     "data": {
      "text/html": [
       "<div>\n",
       "<style scoped>\n",
       "    .dataframe tbody tr th:only-of-type {\n",
       "        vertical-align: middle;\n",
       "    }\n",
       "\n",
       "    .dataframe tbody tr th {\n",
       "        vertical-align: top;\n",
       "    }\n",
       "\n",
       "    .dataframe thead th {\n",
       "        text-align: right;\n",
       "    }\n",
       "</style>\n",
       "<table border=\"1\" class=\"dataframe\">\n",
       "  <thead>\n",
       "    <tr style=\"text-align: right;\">\n",
       "      <th></th>\n",
       "      <th>Value</th>\n",
       "      <th>Label_Cat</th>\n",
       "    </tr>\n",
       "  </thead>\n",
       "  <tbody>\n",
       "    <tr>\n",
       "      <th>0</th>\n",
       "      <td>53</td>\n",
       "      <td>0</td>\n",
       "    </tr>\n",
       "    <tr>\n",
       "      <th>1</th>\n",
       "      <td>68</td>\n",
       "      <td>0</td>\n",
       "    </tr>\n",
       "    <tr>\n",
       "      <th>2</th>\n",
       "      <td>x5</td>\n",
       "      <td>0</td>\n",
       "    </tr>\n",
       "    <tr>\n",
       "      <th>3</th>\n",
       "      <td>5</td>\n",
       "      <td>0</td>\n",
       "    </tr>\n",
       "    <tr>\n",
       "      <th>4</th>\n",
       "      <td>42</td>\n",
       "      <td>0</td>\n",
       "    </tr>\n",
       "  </tbody>\n",
       "</table>\n",
       "</div>"
      ],
      "text/plain": [
       "  Value  Label_Cat\n",
       "0    53          0\n",
       "1    68          0\n",
       "2    x5          0\n",
       "3     5          0\n",
       "4    42          0"
      ]
     },
     "execution_count": 196,
     "metadata": {},
     "output_type": "execute_result"
    }
   ],
   "source": [
    "dfData.head()"
   ]
  },
  {
   "cell_type": "markdown",
   "metadata": {},
   "source": [
    "Shuffle the data"
   ]
  },
  {
   "cell_type": "code",
   "execution_count": 197,
   "metadata": {},
   "outputs": [],
   "source": [
    "dfData = dfData.sample(frac=1).reset_index(drop=True)"
   ]
  },
  {
   "cell_type": "code",
   "execution_count": 198,
   "metadata": {
    "scrolled": true
   },
   "outputs": [
    {
     "data": {
      "text/html": [
       "<div>\n",
       "<style scoped>\n",
       "    .dataframe tbody tr th:only-of-type {\n",
       "        vertical-align: middle;\n",
       "    }\n",
       "\n",
       "    .dataframe tbody tr th {\n",
       "        vertical-align: top;\n",
       "    }\n",
       "\n",
       "    .dataframe thead th {\n",
       "        text-align: right;\n",
       "    }\n",
       "</style>\n",
       "<table border=\"1\" class=\"dataframe\">\n",
       "  <thead>\n",
       "    <tr style=\"text-align: right;\">\n",
       "      <th></th>\n",
       "      <th>Value</th>\n",
       "      <th>Label_Cat</th>\n",
       "    </tr>\n",
       "  </thead>\n",
       "  <tbody>\n",
       "    <tr>\n",
       "      <th>0</th>\n",
       "      <td>not in universe</td>\n",
       "      <td>22</td>\n",
       "    </tr>\n",
       "    <tr>\n",
       "      <th>1</th>\n",
       "      <td>nonmover</td>\n",
       "      <td>27</td>\n",
       "    </tr>\n",
       "    <tr>\n",
       "      <th>2</th>\n",
       "      <td>94</td>\n",
       "      <td>40</td>\n",
       "    </tr>\n",
       "    <tr>\n",
       "      <th>3</th>\n",
       "      <td>0</td>\n",
       "      <td>1</td>\n",
       "    </tr>\n",
       "    <tr>\n",
       "      <th>4</th>\n",
       "      <td>nonfamily householder</td>\n",
       "      <td>8</td>\n",
       "    </tr>\n",
       "    <tr>\n",
       "      <th>5</th>\n",
       "      <td>private</td>\n",
       "      <td>4</td>\n",
       "    </tr>\n",
       "    <tr>\n",
       "      <th>6</th>\n",
       "      <td>white</td>\n",
       "      <td>31</td>\n",
       "    </tr>\n",
       "    <tr>\n",
       "      <th>7</th>\n",
       "      <td>0</td>\n",
       "      <td>2</td>\n",
       "    </tr>\n",
       "    <tr>\n",
       "      <th>8</th>\n",
       "      <td>self-employed-incorporated</td>\n",
       "      <td>4</td>\n",
       "    </tr>\n",
       "    <tr>\n",
       "      <th>9</th>\n",
       "      <td>united-states</td>\n",
       "      <td>6</td>\n",
       "    </tr>\n",
       "  </tbody>\n",
       "</table>\n",
       "</div>"
      ],
      "text/plain": [
       "                         Value  Label_Cat\n",
       "0              not in universe         22\n",
       "1                     nonmover         27\n",
       "2                           94         40\n",
       "3                            0          1\n",
       "4        nonfamily householder          8\n",
       "5                      private          4\n",
       "6                        white         31\n",
       "7                            0          2\n",
       "8   self-employed-incorporated          4\n",
       "9                united-states          6"
      ]
     },
     "execution_count": 198,
     "metadata": {},
     "output_type": "execute_result"
    }
   ],
   "source": [
    "dfData.head(10)"
   ]
  },
  {
   "cell_type": "markdown",
   "metadata": {},
   "source": [
    "Find the longest string in the value column"
   ]
  },
  {
   "cell_type": "code",
   "execution_count": 199,
   "metadata": {},
   "outputs": [],
   "source": [
    "maxLength = dfData.Value.map(lambda x: len(str(x))).max()"
   ]
  },
  {
   "cell_type": "code",
   "execution_count": 200,
   "metadata": {},
   "outputs": [],
   "source": [
    "X = dfData['Value'].tolist()\n",
    "y = dfData['Label_Cat'].tolist()"
   ]
  },
  {
   "cell_type": "markdown",
   "metadata": {},
   "source": [
    "## Tokenize and obtain the train, test split"
   ]
  },
  {
   "cell_type": "code",
   "execution_count": 201,
   "metadata": {},
   "outputs": [],
   "source": [
    "batchSize = 32\n",
    "maxSequenceLength = maxLength\n",
    "maxWords = 2 * sum(dfData.nunique())"
   ]
  },
  {
   "cell_type": "code",
   "execution_count": 202,
   "metadata": {},
   "outputs": [
    {
     "name": "stdout",
     "output_type": "stream",
     "text": [
      "Found 7570 unique tokens.\n"
     ]
    }
   ],
   "source": [
    "tokenizer = Tokenizer(num_words=maxWords)\n",
    "tokenizer.fit_on_texts(X)\n",
    "sequences = tokenizer.texts_to_sequences(X)\n",
    "word_index = tokenizer.word_index\n",
    "print('Found %s unique tokens.' % len(word_index))"
   ]
  },
  {
   "cell_type": "code",
   "execution_count": 203,
   "metadata": {},
   "outputs": [],
   "source": [
    "data = pad_sequences(sequences, maxlen=maxSequenceLength)"
   ]
  },
  {
   "cell_type": "code",
   "execution_count": 204,
   "metadata": {},
   "outputs": [],
   "source": [
    "labels = np.asarray(y)"
   ]
  },
  {
   "cell_type": "code",
   "execution_count": 205,
   "metadata": {},
   "outputs": [
    {
     "data": {
      "text/plain": [
       "(3837190, 48)"
      ]
     },
     "execution_count": 205,
     "metadata": {},
     "output_type": "execute_result"
    }
   ],
   "source": [
    "data.shape"
   ]
  },
  {
   "cell_type": "code",
   "execution_count": 206,
   "metadata": {},
   "outputs": [
    {
     "data": {
      "text/plain": [
       "(3837190,)"
      ]
     },
     "execution_count": 206,
     "metadata": {},
     "output_type": "execute_result"
    }
   ],
   "source": [
    "labels.shape"
   ]
  },
  {
   "cell_type": "code",
   "execution_count": 207,
   "metadata": {},
   "outputs": [],
   "source": [
    "labels = to_categorical(labels)"
   ]
  },
  {
   "cell_type": "code",
   "execution_count": 208,
   "metadata": {},
   "outputs": [
    {
     "data": {
      "text/plain": [
       "(3837190, 41)"
      ]
     },
     "execution_count": 208,
     "metadata": {},
     "output_type": "execute_result"
    }
   ],
   "source": [
    "labels.shape"
   ]
  },
  {
   "cell_type": "markdown",
   "metadata": {},
   "source": [
    "Shuffle the dataset"
   ]
  },
  {
   "cell_type": "code",
   "execution_count": 209,
   "metadata": {},
   "outputs": [],
   "source": [
    "indices = np.arange(data.shape[0])\n",
    "#np.random.shuffle(indices)"
   ]
  },
  {
   "cell_type": "code",
   "execution_count": 210,
   "metadata": {},
   "outputs": [],
   "source": [
    "data = data[indices]\n",
    "labels = labels[indices]"
   ]
  },
  {
   "cell_type": "markdown",
   "metadata": {},
   "source": [
    "## Train test split"
   ]
  },
  {
   "cell_type": "code",
   "execution_count": 211,
   "metadata": {},
   "outputs": [],
   "source": [
    "X_train, X_test, y_train, y_test = train_test_split(data, labels, test_size=0.2, random_state=22, stratify=labels)"
   ]
  },
  {
   "cell_type": "code",
   "execution_count": 212,
   "metadata": {},
   "outputs": [
    {
     "data": {
      "text/plain": [
       "(3069752, 3069752)"
      ]
     },
     "execution_count": 212,
     "metadata": {},
     "output_type": "execute_result"
    }
   ],
   "source": [
    "len(X_train), len(y_train)"
   ]
  },
  {
   "cell_type": "code",
   "execution_count": 213,
   "metadata": {},
   "outputs": [
    {
     "data": {
      "text/plain": [
       "(767438, 767438)"
      ]
     },
     "execution_count": 213,
     "metadata": {},
     "output_type": "execute_result"
    }
   ],
   "source": [
    "len(X_test), len(y_test)"
   ]
  },
  {
   "cell_type": "markdown",
   "metadata": {},
   "source": [
    "## Model"
   ]
  },
  {
   "cell_type": "code",
   "execution_count": 214,
   "metadata": {},
   "outputs": [],
   "source": [
    "embeddingDim = 100"
   ]
  },
  {
   "cell_type": "markdown",
   "metadata": {},
   "source": [
    "**Architecture**\n",
    "* 1 embedding layer \n",
    "* 1 dense layer, 32 hidden units and _relu_ activation\n",
    "* 1 dense layer, 64 hidden units and _relu_ activation\n",
    "* Output layer, _softmax_ activation"
   ]
  },
  {
   "cell_type": "code",
   "execution_count": 215,
   "metadata": {},
   "outputs": [],
   "source": [
    "model = models.Sequential()\n",
    "model.add(layers.Embedding(maxWords, embeddingDim, input_length=maxSequenceLength))\n",
    "model.add(layers.Flatten())\n",
    "model.add(layers.Dense(32, activation=activations.relu))\n",
    "model.add(layers.Dense(64, activation=activations.relu))\n",
    "model.add(layers.Dense(labels.shape[1], activation=activations.softmax))\n",
    "\n",
    "model.compile(optimizer=optimizers.Adam(), loss=losses.categorical_crossentropy, metrics=['accuracy'])"
   ]
  },
  {
   "cell_type": "code",
   "execution_count": 216,
   "metadata": {},
   "outputs": [
    {
     "name": "stdout",
     "output_type": "stream",
     "text": [
      "_________________________________________________________________\n",
      "Layer (type)                 Output Shape              Param #   \n",
      "=================================================================\n",
      "embedding_4 (Embedding)      (None, 48, 100)           11384200  \n",
      "_________________________________________________________________\n",
      "flatten_4 (Flatten)          (None, 4800)              0         \n",
      "_________________________________________________________________\n",
      "dense_10 (Dense)             (None, 32)                153632    \n",
      "_________________________________________________________________\n",
      "dense_11 (Dense)             (None, 64)                2112      \n",
      "_________________________________________________________________\n",
      "dense_12 (Dense)             (None, 41)                2665      \n",
      "=================================================================\n",
      "Total params: 11,542,609\n",
      "Trainable params: 11,542,609\n",
      "Non-trainable params: 0\n",
      "_________________________________________________________________\n"
     ]
    }
   ],
   "source": [
    "model.summary()"
   ]
  },
  {
   "cell_type": "code",
   "execution_count": 217,
   "metadata": {},
   "outputs": [
    {
     "name": "stdout",
     "output_type": "stream",
     "text": [
      "Train on 1534876 samples, validate on 1534876 samples\n",
      "Epoch 1/3\n",
      "1534876/1534876 [==============================] - 5804s 4ms/step - loss: 1.0779 - acc: 0.5542 - val_loss: 1.0459 - val_acc: 0.5601\n",
      "Epoch 2/3\n",
      "1534876/1534876 [==============================] - 5588s 4ms/step - loss: 1.0454 - acc: 0.5605 - val_loss: 1.0474 - val_acc: 0.5586\n",
      "Epoch 3/3\n",
      "1534876/1534876 [==============================] - 4780s 3ms/step - loss: 1.0440 - acc: 0.5618 - val_loss: 1.0486 - val_acc: 0.5576\n"
     ]
    }
   ],
   "source": [
    "history = model.fit(X_train, y_train,\n",
    "                    epochs=3,\n",
    "                    batch_size=32, \n",
    "                    validation_split=0.5)"
   ]
  },
  {
   "cell_type": "code",
   "execution_count": 218,
   "metadata": {},
   "outputs": [
    {
     "data": {
      "image/png": "[encoded data removed]",
      "text/plain": [
       "<matplotlib.figure.Figure at 0x1aa4e17a58>"
      ]
     },
     "metadata": {},
     "output_type": "display_data"
    },
    {
     "data": {
      "image/png": "[encoded data removed]",
      "text/plain": [
       "<matplotlib.figure.Figure at 0x1a60094898>"
      ]
     },
     "metadata": {},
     "output_type": "display_data"
    }
   ],
   "source": [
    "acc = history.history['acc']\n",
    "val_acc = history.history['val_acc']\n",
    "\n",
    "loss = history.history['loss']\n",
    "val_loss = history.history['val_loss']\n",
    "\n",
    "epochs = range(1, len(acc) + 1)\n",
    "plt.plot(epochs, acc, 'bo', label='Training acc')\n",
    "plt.plot(epochs, val_acc, 'b', label='Validation acc')\n",
    "plt.title('Training and validation accuracy')\n",
    "plt.xlabel(\"Epochs\")\n",
    "plt.ylabel(\"Accuracy\")\n",
    "plt.legend()\n",
    "\n",
    "plt.figure()\n",
    "\n",
    "plt.plot(epochs, loss, 'bo', label='Training loss')\n",
    "plt.plot(epochs, val_loss, 'b', label='Validation loss')\n",
    "plt.title('Training and validation loss')\n",
    "plt.xlabel(\"Epochs\")\n",
    "plt.ylabel(\"Loss\")\n",
    "plt.legend()\n",
    "plt.show();"
   ]
  },
  {
   "cell_type": "code",
   "execution_count": 219,
   "metadata": {},
   "outputs": [
    {
     "name": "stdout",
     "output_type": "stream",
     "text": [
      "767438/767438 [==============================] - 25s 32us/step\n"
     ]
    }
   ],
   "source": [
    "results = model.evaluate(X_test, y_test)"
   ]
  },
  {
   "cell_type": "code",
   "execution_count": 220,
   "metadata": {},
   "outputs": [],
   "source": [
    "loss = results[0]\n",
    "accuracy = results[1]"
   ]
  },
  {
   "cell_type": "code",
   "execution_count": 221,
   "metadata": {},
   "outputs": [
    {
     "data": {
      "text/plain": [
       "1.049217917039011"
      ]
     },
     "execution_count": 221,
     "metadata": {},
     "output_type": "execute_result"
    }
   ],
   "source": [
    "loss"
   ]
  },
  {
   "cell_type": "code",
   "execution_count": 222,
   "metadata": {},
   "outputs": [
    {
     "data": {
      "text/plain": [
       "0.5573127731495673"
      ]
     },
     "execution_count": 222,
     "metadata": {},
     "output_type": "execute_result"
    }
   ],
   "source": [
    "accuracy"
   ]
  },
  {
   "cell_type": "markdown",
   "metadata": {},
   "source": [
    "Save the model"
   ]
  },
  {
   "cell_type": "code",
   "execution_count": 223,
   "metadata": {},
   "outputs": [],
   "source": [
    "model.save(\"CensusMultiAttributeClassifier.h5\")"
   ]
  },
  {
   "cell_type": "markdown",
   "metadata": {},
   "source": [
    "Save the tokenizer"
   ]
  },
  {
   "cell_type": "code",
   "execution_count": 224,
   "metadata": {},
   "outputs": [],
   "source": [
    "with open('CensusMultiAttributeClassifierTokenizer.pickle', 'wb') as handle:\n",
    "    pickle.dump(tokenizer, handle, protocol=pickle.HIGHEST_PROTOCOL, fix_imports=True)"
   ]
  },
  {
   "cell_type": "markdown",
   "metadata": {},
   "source": [
    "## Make predictions on new data"
   ]
  },
  {
   "cell_type": "code",
   "execution_count": 225,
   "metadata": {},
   "outputs": [],
   "source": [
    "model = load_model('CensusMultiAttributeClassifier.h5')"
   ]
  },
  {
   "cell_type": "code",
   "execution_count": 226,
   "metadata": {},
   "outputs": [],
   "source": [
    "with open('CensusMultiAttributeClassifierTokenizer.pickle', 'rb') as handle:\n",
    "    tokenizer = pickle.load(handle)"
   ]
  },
  {
   "cell_type": "code",
   "execution_count": 227,
   "metadata": {},
   "outputs": [],
   "source": [
    "testString = ['united states']"
   ]
  },
  {
   "cell_type": "code",
   "execution_count": 228,
   "metadata": {},
   "outputs": [],
   "source": [
    "sequences = tokenizer.texts_to_sequences(testString)\n",
    "testData = pad_sequences(sequences, maxlen=maxLength)"
   ]
  },
  {
   "cell_type": "code",
   "execution_count": 229,
   "metadata": {},
   "outputs": [],
   "source": [
    "predictions = model.predict(testData)"
   ]
  },
  {
   "cell_type": "code",
   "execution_count": 230,
   "metadata": {},
   "outputs": [],
   "source": [
    "#mapping = dict(enumerate(df.columns.astype('category').categories))"
   ]
  },
  {
   "cell_type": "code",
   "execution_count": 231,
   "metadata": {},
   "outputs": [
    {
     "data": {
      "text/plain": [
       "'country_of_birth_self'"
      ]
     },
     "execution_count": 231,
     "metadata": {},
     "output_type": "execute_result"
    }
   ],
   "source": [
    "mapping[np.argmax(predictions[0])]"
   ]
  },
  {
   "cell_type": "code",
   "execution_count": null,
   "metadata": {},
   "outputs": [],
   "source": []
  },
  {
   "cell_type": "code",
   "execution_count": null,
   "metadata": {},
   "outputs": [],
   "source": []
  }
 ],
 "metadata": {
  "kernel_info": {
   "name": "python3"
  },
  "kernelspec": {
   "display_name": "Python 3",
   "language": "python",
   "name": "python3"
  },
  "language_info": {
   "codemirror_mode": {
    "name": "ipython",
    "version": 3
   },
   "file_extension": ".py",
   "mimetype": "text/x-python",
   "name": "python",
   "nbconvert_exporter": "python",
   "pygments_lexer": "ipython3",
   "version": "3.6.4"
  },
  "nteract": {
   "version": "0.8.4"
  },
  "toc": {
   "nav_menu": {},
   "number_sections": true,
   "sideBar": true,
   "skip_h1_title": false,
   "title_cell": "Table of Contents",
   "title_sidebar": "Contents",
   "toc_cell": false,
   "toc_position": {},
   "toc_section_display": true,
   "toc_window_display": false
  }
 },
 "nbformat": 4,
 "nbformat_minor": 2
}
